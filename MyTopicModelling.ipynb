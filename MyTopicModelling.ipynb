{
  "cells": [
    {
      "cell_type": "markdown",
      "metadata": {},
      "source": [
        "## Conclusion\n",
        "If the tfidf value of the top most salient terms in an LDA model aren't found or are below a threshold in a new Document, retrain the LDA model with the new document."
      ]
    },
    {
      "cell_type": "markdown",
      "metadata": {},
      "source": [
        "Dataset Used: [Bishop Dataset](https://www.kaggle.com/datasets/daishinkan002/bishop-topic-modelling-dataset)"
      ]
    },
    {
      "cell_type": "code",
      "execution_count": null,
      "metadata": {
        "colab": {
          "base_uri": "https://localhost:8080/"
        },
        "id": "h5dB6aMrBedX",
        "outputId": "a34d75d0-1d69-4630-b03c-ec13c56f47fb"
      },
      "outputs": [],
      "source": [
        "%pip install contractions pyLDAvis \"pandas<2.0.0\""
      ]
    },
    {
      "cell_type": "code",
      "execution_count": 2,
      "metadata": {
        "id": "9604t5KyfNH-"
      },
      "outputs": [],
      "source": [
        "import pandas as pd\n",
        "import numpy as np"
      ]
    },
    {
      "cell_type": "code",
      "execution_count": 3,
      "metadata": {
        "colab": {
          "base_uri": "https://localhost:8080/",
          "height": 338
        },
        "id": "I4SCTprefNvm",
        "outputId": "1d986fbd-45b6-4999-8d5a-0cfb74284a4a"
      },
      "outputs": [
        {
          "data": {
            "text/plain": [
              "' problem searching patterns data fundamental one long successful history instance extensive astronomical observations tycho brahe century allowed johannes kepler discover empirical laws planetary motion turn provided springboard development classical mechanics similarly discovery regularities atomic spectra played key role development veriﬁcation quantum physics early twentieth century ﬁeld pattern recognition concerned automatic discovariance ery regularities data use computer algorithms use regularities take actions classifying data different categories consider example recognizing handwritten digits illustrated figure digit corresponds pixel image represented vector comprising real numbers goal build machine take vector input produce identity digit output nontrivial problem due wide variability handwriting could introduction figure examples hand written dig taken zip codes tackled using handcrafted rules heuristics distinguishing digits based shapes strokes practice approach leads proliferation rules exceptions rules invariably gives poor results far better results obtained adopting machine learning approach large set digits called training set used tune parameters adaptive model categories digits training set known advance typically inspecting individually hand labelling express category digit using target vector represents identity corresponding digit suitable techniques representing cate gories terms vectors discussed later note one target vector digit image result running machine learning algorithm expressed function takes new digit image input generates output vector encoded way target vectors precise form function determined training phase also known learning phase basis training data model trained termine identity new digit images said comprise test set ability categorize correctly new examples differ used training known generalization practical applications variability input vectors training data comprise tiny fraction possible input vectors generalization central goal pattern recognition practical applications original input variables typically prepro cessed transform new space variables hoped pattern recognition problem easier solve instance digit recognition problem images digits typically translated scaled digit contained within box ﬁxed size greatly reduces variability within digit class location scale digits makes much easier subsequent pattern recognition algorithm distinguish different classes pre processing stage sometimes also called feature extraction note new test data must pre processed using steps training data pre processing might also performed order speed computation example goal real time face detection high resolution video stream computer must handle huge numbers pixels per second presenting directly complex pattern recognition algorithm may computationally infeasi ble instead aim ﬁnd useful features fast compute yet introduction also preserve useful discriminatory information enabling faces distinguished non faces features used inputs pattern recognition algorithm instance average value image intensity rectangular subregion evaluated extremely efﬁciently viola jones set features prove effective fast face detection number features smaller number pixels kind pre processing repre sents form dimensionality reduction care must taken pre processing often information discarded information important solution problem overall accuracy system suffer applications training data comprises examples input vectors along corresponding target vectors known supervised learning prob lems cases digit recognition example aim assign input vector one ﬁnite number discrete categories called classiﬁcation problems desired output consists one continuous variables task called regression example regression problem would prediction yield chemical manufacturing process inputs consist concentrations reactants temperature pressure pattern recognition problems training data consists set input vectors without corresponding target values goal unsupervised learning problems may discover groups similar examples within data called clustering determine distribution data within input space known density estimation project data high dimensional space two three dimensions purpose visualization finally technique reinforcement learning sutton barto con cerned problem ﬁnding suitable actions take given situation order maximize reward learning algorithm given examples optimal outputs contrast supervised learning must instead discover process trial error typically sequence states actions learning algorithm interacting environment many cases current action affects immediate reward also impact ward subsequent time steps example using appropriate reinforcement learning techniques neural network learn play game backgammon high standard tesauro network must learn take board position input along result dice throw produce strong move output done network play copy perhaps million games major challenge game backgammon involve dozens moves yet end game reward form victory achieved reward must attributed appropriately moves led even though moves good ones others less example credit assignment problem general feature inforcement learning trade exploration system tries new kinds actions see effective exploitation system makes use actions known yield high reward strong focus either exploration exploitation yield poor results reinforcement learning continues active area machine learning research however introduction figure plot training data set points shown blue circles comprising observation input variable along corresponding target variable green curve shows function sin used generate data goal predict value new value without knowledge green curve detailed treatment lies beyond scope book although tasks needs tools techniques many key ideas underpin common problems one main goals chapter introduce relatively informal way several important concepts illustrate using simple examples later book shall see ideas emerge context sophisti cated models applicable real world pattern recognition applications chapter also provides self contained introduction three important tools used throughout book namely probability theory decision theory information theory although might sound like daunting topics fact straightforward clear understanding essential machine learning techniques used best effect practical applications \\n'"
            ]
          },
          "execution_count": 3,
          "metadata": {},
          "output_type": "execute_result"
        }
      ],
      "source": [
        "bishop = pd.read_csv(\"Bishop.csv\", index_col=0)\n",
        "bishop[\"text\"][0]"
      ]
    },
    {
      "cell_type": "code",
      "execution_count": null,
      "metadata": {},
      "outputs": [],
      "source": [
        "%pip install nltk"
      ]
    },
    {
      "cell_type": "code",
      "execution_count": null,
      "metadata": {
        "id": "H_A54G7CfOyn"
      },
      "outputs": [],
      "source": [
        "import nltk\n",
        "nltk.download('punkt')\n",
        "nltk.download('stopwords')\n",
        "from nltk.corpus import stopwords\n",
        "stop_words = set(stopwords.words('english'))\n",
        "stop_words.add('subject')\n",
        "stop_words.add('http')\n",
        "\n",
        "from nltk.stem import WordNetLemmatizer\n",
        "nltk.download('wordnet')\n",
        "lemmatizer = WordNetLemmatizer()\n",
        "\n",
        "import contractions\n",
        "\n",
        "import re\n",
        "import string"
      ]
    },
    {
      "cell_type": "code",
      "execution_count": 6,
      "metadata": {
        "id": "ID1ho78bfP69"
      },
      "outputs": [],
      "source": [
        "def preprocess(text):\n",
        "    text = re.sub('[%s]' % re.escape(string.punctuation.replace('+', '')), '' , text)\n",
        "\n",
        "    text = text.lower()\n",
        "    text = nltk.word_tokenize(text)\n",
        "\n",
        "    expanded_cont = []\n",
        "    for i in text:\n",
        "        expanded_cont.append(contractions.fix(i))\n",
        "    text = expanded_cont\n",
        "\n",
        "    text = [word for word in text if word not in stop_words]\n",
        "    text = [lemmatizer.lemmatize(word) for word in text]\n",
        "    return text"
      ]
    },
    {
      "cell_type": "code",
      "execution_count": 7,
      "metadata": {
        "id": "mj1LNVZefRcJ"
      },
      "outputs": [
        {
          "name": "stdout",
          "output_type": "stream",
          "text": [
            "['problem',\n",
            " 'searching',\n",
            " 'pattern',\n",
            " 'data',\n",
            " 'fundamental',\n",
            " 'one',\n",
            " 'long',\n",
            " 'successful',\n",
            " 'history',\n",
            " 'instance']\n"
          ]
        }
      ],
      "source": [
        "from pprint import pprint\n",
        "\n",
        "pprint(preprocess(bishop[\"text\"][0])[:10])"
      ]
    },
    {
      "cell_type": "code",
      "execution_count": 8,
      "metadata": {
        "id": "o6r3GLPkfSdj"
      },
      "outputs": [
        {
          "data": {
            "text/html": [
              "<div>\n",
              "<style scoped>\n",
              "    .dataframe tbody tr th:only-of-type {\n",
              "        vertical-align: middle;\n",
              "    }\n",
              "\n",
              "    .dataframe tbody tr th {\n",
              "        vertical-align: top;\n",
              "    }\n",
              "\n",
              "    .dataframe thead th {\n",
              "        text-align: right;\n",
              "    }\n",
              "</style>\n",
              "<table border=\"1\" class=\"dataframe\">\n",
              "  <thead>\n",
              "    <tr style=\"text-align: right;\">\n",
              "      <th></th>\n",
              "      <th>topic</th>\n",
              "      <th>text</th>\n",
              "      <th>tokens</th>\n",
              "    </tr>\n",
              "  </thead>\n",
              "  <tbody>\n",
              "    <tr>\n",
              "      <th>0</th>\n",
              "      <td>[introduction]</td>\n",
              "      <td>problem searching patterns data fundamental o...</td>\n",
              "      <td>[problem, searching, pattern, data, fundamenta...</td>\n",
              "    </tr>\n",
              "    <tr>\n",
              "      <th>1</th>\n",
              "      <td>[example, polynomial, curve, fitting]</td>\n",
              "      <td>begin introducing simple regression problem s...</td>\n",
              "      <td>[begin, introducing, simple, regression, probl...</td>\n",
              "    </tr>\n",
              "    <tr>\n",
              "      <th>2</th>\n",
              "      <td>[probability, theory]</td>\n",
              "      <td>key concept ﬁeld pattern recognition uncertai...</td>\n",
              "      <td>[key, concept, ﬁeld, pattern, recognition, unc...</td>\n",
              "    </tr>\n",
              "    <tr>\n",
              "      <th>3</th>\n",
              "      <td>[probability, theory, probability, densities]</td>\n",
              "      <td>well considering probabilities deﬁned discret...</td>\n",
              "      <td>[well, considering, probability, deﬁned, discr...</td>\n",
              "    </tr>\n",
              "    <tr>\n",
              "      <th>4</th>\n",
              "      <td>[probability, theory, expectations, covariances]</td>\n",
              "      <td>one important operations involving probabilit...</td>\n",
              "      <td>[one, important, operation, involving, probabi...</td>\n",
              "    </tr>\n",
              "  </tbody>\n",
              "</table>\n",
              "</div>"
            ],
            "text/plain": [
              "                                              topic  \\\n",
              "0                                    [introduction]   \n",
              "1             [example, polynomial, curve, fitting]   \n",
              "2                             [probability, theory]   \n",
              "3     [probability, theory, probability, densities]   \n",
              "4  [probability, theory, expectations, covariances]   \n",
              "\n",
              "                                                text  \\\n",
              "0   problem searching patterns data fundamental o...   \n",
              "1   begin introducing simple regression problem s...   \n",
              "2   key concept ﬁeld pattern recognition uncertai...   \n",
              "3   well considering probabilities deﬁned discret...   \n",
              "4   one important operations involving probabilit...   \n",
              "\n",
              "                                              tokens  \n",
              "0  [problem, searching, pattern, data, fundamenta...  \n",
              "1  [begin, introducing, simple, regression, probl...  \n",
              "2  [key, concept, ﬁeld, pattern, recognition, unc...  \n",
              "3  [well, considering, probability, deﬁned, discr...  \n",
              "4  [one, important, operation, involving, probabi...  "
            ]
          },
          "execution_count": 8,
          "metadata": {},
          "output_type": "execute_result"
        }
      ],
      "source": [
        "bishop['tokens'] = bishop['text'].apply(lambda x : preprocess(x))\n",
        "bishop.head()"
      ]
    },
    {
      "cell_type": "code",
      "execution_count": 9,
      "metadata": {
        "id": "EZ0kvlMm-txP"
      },
      "outputs": [],
      "source": [
        "data_words = list(bishop.tokens)"
      ]
    },
    {
      "cell_type": "code",
      "execution_count": 10,
      "metadata": {
        "colab": {
          "base_uri": "https://localhost:8080/",
          "height": 140
        },
        "id": "YLGkxdxQfTjh",
        "outputId": "d399bd52-c7d3-4a0b-8efa-5883d4743735"
      },
      "outputs": [],
      "source": [
        "import gensim\n",
        "import gensim.corpora as corpora\n",
        "\n",
        "from gensim.models import TfidfModel\n",
        "from gensim.models import Phrases, phrases"
      ]
    },
    {
      "cell_type": "code",
      "execution_count": 11,
      "metadata": {
        "id": "8HSPkjvbfVOC"
      },
      "outputs": [],
      "source": [
        "def make_phrases(tokens: list[str]):\n",
        "    bigram_ph = Phrases(data_words, min_count=5, threshold=50)\n",
        "    trigram_ph = Phrases(bigram_ph[data_words], threshold=50)\n",
        "\n",
        "    bigram = phrases.Phraser(bigram_ph)\n",
        "    trigram = phrases.Phraser(trigram_ph)\n",
        "\n",
        "    data_bigrams = [bigram[doc] for doc in tokens]\n",
        "    data_trigrams = [trigram[bigram[doc]] for doc in tokens]\n",
        "    return data_trigrams\n",
        "\n",
        "def train_tfidf(data: list[list[str]]):\n",
        "    id2word = corpora.Dictionary(data)\n",
        "    corpus = [id2word.doc2bow(word) for word in data]\n",
        "\n",
        "    tfidfModel = TfidfModel(corpus, id2word = id2word)\n",
        "    return tfidfModel\n",
        "\n",
        "def tfidf_filter(data: list[list[str]], model: TfidfModel, id2word = None):\n",
        "    if id2word == None:\n",
        "        id2word = corpora.Dictionary(data)\n",
        "    corpus = [id2word.doc2bow(word) for word in data]\n",
        "\n",
        "    low_val = 0.03\n",
        "    low_val_words = []\n",
        "    for bow in corpus:\n",
        "        low_val_words += [id for id, value in model[bow] if value < low_val]\n",
        "\n",
        "    id2word.filter_tokens(bad_ids=low_val_words)\n",
        "\n",
        "    return ([id2word.doc2bow(doc) for doc in data], id2word)"
      ]
    },
    {
      "cell_type": "code",
      "execution_count": 12,
      "metadata": {},
      "outputs": [
        {
          "name": "stdout",
          "output_type": "stream",
          "text": [
            "Dictionary<2352 unique tokens: ['ability', 'affect', 'astronomical', 'atomic', 'board']...>\n",
            "[(0, 1), (1, 1), (2, 1), (3, 1), (4, 1), (5, 1), (6, 1), (7, 1), (8, 1), (9, 4), (10, 2), (11, 1), (12, 1), (13, 1), (14, 1), (15, 2), (16, 1), (17, 1), (18, 1), (19, 1), (20, 1), (21, 1), (22, 1), (23, 1), (24, 1), (25, 1), (26, 2), (27, 1), (28, 1), (29, 1), (30, 1), (31, 1), (32, 2), (33, 4), (34, 1), (35, 1), (36, 1), (37, 1), (38, 1), (39, 1), (40, 1), (41, 1), (42, 1), (43, 1), (44, 1), (45, 1), (46, 1), (47, 1), (48, 1), (49, 1)]\n"
          ]
        }
      ],
      "source": [
        "data_words = make_phrases(data_words)\n",
        "tfidf_model = train_tfidf(data_words)\n",
        "data_corpus, id2word = tfidf_filter(data_words, tfidf_model)\n",
        "print(id2word)\n",
        "print(data_corpus[0][:50])"
      ]
    },
    {
      "cell_type": "code",
      "execution_count": 13,
      "metadata": {
        "id": "BdUrM5icfWr5"
      },
      "outputs": [],
      "source": [
        "lda_model = gensim.models.ldamodel.LdaModel(corpus=data_corpus,\n",
        "                                            id2word=id2word,\n",
        "                                            num_topics=10,\n",
        "                                            random_state=100,\n",
        "                                            update_every=1,\n",
        "                                            chunksize=100,\n",
        "                                            passes=10,\n",
        "                                            alpha='auto')"
      ]
    },
    {
      "cell_type": "code",
      "execution_count": 14,
      "metadata": {
        "id": "ET7ACU2xfYb7"
      },
      "outputs": [],
      "source": [
        "import pyLDAvis\n",
        "import pyLDAvis.gensim_models as gensimvis"
      ]
    },
    {
      "cell_type": "code",
      "execution_count": null,
      "metadata": {
        "id": "Jz9bitGEfZeC"
      },
      "outputs": [],
      "source": [
        "pyLDAvis.enable_notebook()\n",
        "\n",
        "vis = gensimvis.prepare(lda_model, data_corpus, id2word, mds='mmds', R=20)"
      ]
    },
    {
      "cell_type": "code",
      "execution_count": 16,
      "metadata": {
        "id": "VJNbZJrNfaqC"
      },
      "outputs": [
        {
          "data": {
            "text/html": [
              "\n",
              "<link rel=\"stylesheet\" type=\"text/css\" href=\"https://cdn.jsdelivr.net/gh/bmabey/pyLDAvis@3.4.0/pyLDAvis/js/ldavis.v1.0.0.css\">\n",
              "\n",
              "\n",
              "<div id=\"ldavis_el2494019473727391526794125978\" style=\"background-color:white;\"></div>\n",
              "<script type=\"text/javascript\">\n",
              "\n",
              "var ldavis_el2494019473727391526794125978_data = {\"mdsDat\": {\"x\": [0.0173275955668479, 0.02991968729001085, -0.302657159537784, -0.18820769286321393, 0.15161707099748142, 0.3258413454117233, 0.17293420894915884, -0.0724275274581228, -0.20749121613900143, 0.07314368778289983], \"y\": [0.4458708135534119, -0.34200171679245855, -0.17298651841874463, 0.1843851613998112, -0.15553616836715123, -0.05391235585561565, 0.18059098442947608, -0.13329770044821773, 0.028553216052494803, 0.018334284446993785], \"topics\": [1, 2, 3, 4, 5, 6, 7, 8, 9, 10], \"cluster\": [1, 1, 1, 1, 1, 1, 1, 1, 1, 1], \"Freq\": [17.58550839222187, 14.73218279604377, 11.778179746610615, 9.841591806432685, 9.235872750386017, 9.155396853403309, 8.530434243082786, 7.634341652788133, 6.043202690183273, 5.463289068847548]}, \"tinfo\": {\"Term\": [\"journal\", \"mit_press\", \"gaussian_process\", \"support_vector_machine\", \"split\", \"neural_computation\", \"beam\", \"monte_carlo\", \"research\", \"sparse\", \"press\", \"hinton\", \"base_classi\\ufb01ers\", \"ed_advance_neural\", \"machine\", \"eigenvalue\", \"ghahramani\", \"springer\", \"orthogonal\", \"theorem\", \"mit_press\", \"neural_computation\", \"press\", \"ed_advance_neural\", \"springer\", \"ed\", \"wiley\", \"information_processing_system_volume\", \"reference\", \"proceeding\", \"morgan_kaufmann\", \"ieee\", \"intelligence\", \"science\", \"ed_proceeding\", \"international\", \"williams\", \"component_analysis\", \"international_conference\", \"university\", \"jordan\", \"gaussian_process\", \"margin\", \"principal_component_analysis\", \"leapfrog_integration\", \"accepted\", \"detailed_balance\", \"speech_recognition\", \"rejection_rate\", \"horizontal\", \"initialized\", \"dard\", \"stan\", \"dynamical\", \"evolution\", \"ergodic\", \"preserve\", \"ergodicity\", \"\\ufb02at\", \"conservation\", \"ellipse\", \"passed\", \"carry\", \"deviation\", \"cross_entropy\", \"deterministic\", \"arrow\", \"homogeneous\", \"markov_chain_monte_carlo\", \"journal\", \"sparse\", \"orthogonal\", \"communication\", \"society\", \"cox\", \"monte_carlo\", \"computer\", \"\\ufb02exibility\", \"co\", \"machine\", \"recognition\", \"unit_circle\", \"create\", \"slope\", \"worth_emphasizing\", \"pca\", \"eigenvalue\", \"co_sin\", \"malization\", \"theorem\", \"markov_chain_monte_carlo\", \"fast\", \"event\", \"fisher\", \"sampled\", \"improved\", \"beam\", \"research\", \"oil_water\", \"pipe\", \"oil_water_gas\", \"gas\", \"empty\", \"attenuation\", \"fuel_gauge\", \"battery\", \"intensity\", \"velocity\", \"water\", \"fuel_tank\", \"material\", \"diagnosis\", \"orientation\", \"squared_loss\", \"consideration\", \"retain\", \"con\\ufb01gurations\", \"output_unit\", \"envelope\", \"output_unit_activation\", \"shaded\", \"cancer\", \"succession\", \"somewhat\", \"negative_logarithm\", \"ease\", \"force\", \"multiplicative\", \"matched\", \"acceleration\", \"schematic\", \"decompose\", \"schematically\", \"indicating\", \"derivation\", \"consistency\", \"extending\", \"proven\", \"regularizer\", \"rejected\", \"misclassi\\ufb01cation_rate\", \"absolute\", \"pure\", \"support_vector_machine\", \"split\", \"blind\", \"information_processing\", \"hinton\", \"unconditional\", \"background\", \"hierarchical_mixture\", \"growing\", \"maximum_margin_classi\\ufb01ers\", \"distributed_according\", \"recursive\", \"traversal\", \"received_message_neighbour\", \"svms\", \"interpretability\", \"relaxed\", \"stop\", \"subdivided\", \"grey\", \"centred\", \"sparse_kernel_machine\", \"colour\", \"margin\", \"misclassi\\ufb01cation_rate\", \"logistic_regression_model\", \"fast\", \"cross_entropy\", \"ghahramani\", \"information_criterion\", \"pac\", \"document\", \"becker\", \"slice\", \"valid_kernel\", \"differentiating\", \"uncorrelated\", \"figure_left_hand\", \"approx_imation\", \"depicted\", \"ce\", \"avoids\", \"varying\", \"testing\", \"marginalized\", \"fore\", \"considers\", \"rewrite\", \"penalty\", \"bayesian_mixture_gaussians\", \"min_max\", \"gaussian_process\", \"fisher\", \"generative\", \"eigenvalue\", \"sample_drawn\", \"mathematics\", \"cycling\", \"alternately\", \"max_max\", \"global_maximum\", \"originally\", \"revised\", \"orange\", \"mixing\", \"randomly\", \"apple\", \"arg_max\", \"fruit\", \"inspection\", \"red_box\", \"decomposes\", \"convergence_criterion_satis\\ufb01ed\", \"gam\", \"working\", \"contribute\", \"responsible_generating\", \"generating\", \"without_loss_generality\", \"base_classi\\ufb01ers\", \"misclassi\\ufb01ed\", \"eruption\", \"base_learner\", \"duration\", \"correctly_classi\\ufb01ed\", \"minute\", \"evolves\", \"algebra\", \"bimodal\", \"mechanism\", \"separation_criterion\", \"geyser\", \"park\", \"yellowstone\", \"base_classi\\ufb01er\", \"interaction\", \"proceeds\", \"kij\", \"convolutional_layer\", \"affect\", \"logistic_regression_model\", \"classi\\ufb01ed\", \"classification\", \"veri\\ufb01ed\", \"tangent_line\", \"uniformly_distributed\", \"transmit\", \"motivated\", \"segmentation\", \"coin\", \"bpb\", \"invert\", \"ignoring\", \"\\ufb02ipping\", \"left_hand_plot\", \"observing\", \"inde\\ufb01nite\", \"explain\", \"bern\", \"pronounced\", \"mult\", \"recover\", \"occurrence\", \"radius\", \"draw\", \"reasonably\"], \"Freq\": [58.0, 66.0, 69.0, 41.0, 36.0, 48.0, 33.0, 34.0, 28.0, 30.0, 38.0, 27.0, 21.0, 36.0, 33.0, 34.0, 22.0, 33.0, 25.0, 33.0, 66.30587492093974, 47.83961504407435, 37.99494568958885, 35.890712321578306, 32.631898648006946, 28.286793563095404, 28.286793563095404, 26.114234032895492, 26.114234032895492, 23.941672173447536, 20.682818902659392, 18.510241903099132, 18.510241903099132, 18.509211210838657, 16.337657915794736, 15.251361845958456, 29.213680555140876, 14.165068105370223, 14.165068105370223, 14.165068105370223, 26.880894381085913, 34.77074231273706, 14.976504753378165, 22.978145521787635, 22.717958814921015, 15.525683001258598, 14.982509419709613, 12.633637477740995, 12.263743805669481, 8.192114248114818, 8.1753738963932, 7.423724981784175, 7.423724981784175, 7.0376548887111205, 7.0368997288887325, 6.3829649829254365, 6.0662476361764135, 5.839470409669002, 5.840667542875812, 5.295828999780438, 5.18389899626119, 5.182821381243325, 5.182792111482767, 7.39990671413037, 10.548283141390463, 6.181841725888139, 6.86946499059463, 8.283678840067381, 6.904326251077501, 57.81774978695192, 30.18755878434334, 24.57396081041372, 14.64671225801597, 14.646688857240553, 12.537693972929672, 32.489605385676, 20.158591741370028, 5.518590825743187, 5.234355647237848, 29.73830445771215, 18.745821407372535, 4.400590309330113, 4.330901630104349, 4.221065800550115, 4.219914092386755, 15.542194410991296, 29.11516676922776, 3.1254974624566843, 3.097407561660989, 27.149292587409022, 23.238320992237007, 23.662211998421316, 6.761291344254342, 10.949397542644823, 5.274184547020668, 5.36319212640352, 32.68204955070208, 28.16772324286776, 19.00920361365457, 13.74807223826047, 13.329042356784269, 10.798601990894342, 10.535789641354432, 9.961279382862939, 7.754115016124973, 6.572790688930251, 11.632595343986345, 5.755480761579016, 5.755480761579016, 5.391472879462505, 5.290449740764421, 5.117165214854816, 4.704612976333829, 7.586302447898167, 4.577271256106181, 4.331021428471633, 14.917352457776024, 12.640218758093848, 10.18783907517569, 7.648936067346112, 6.8089447261787965, 7.882615164851427, 5.475507358852184, 5.204992985094612, 5.182215447776724, 5.000779294963679, 4.816078416850968, 4.678734558242008, 4.344701933717407, 4.344624253134165, 4.2906417527037695, 4.206876700155597, 4.013985413775877, 4.013270691244231, 3.963130015564598, 3.8209219456309373, 3.542815671092205, 8.211817525077862, 6.406596004470199, 6.454248454853525, 5.847910521549822, 4.603329954922588, 4.344840168456091, 40.48453527007175, 35.405209769842656, 17.441561058467876, 17.302132179416077, 25.916275288124538, 6.54777251192937, 6.3100013927096725, 6.207945996741044, 6.207875056305269, 4.375706729130735, 4.3338940118550315, 4.293438257786715, 4.584833980002898, 3.417057091421486, 3.1382927079085623, 3.1345422629044095, 3.134527711020148, 3.134485874352896, 3.134485874352896, 3.035082256126675, 10.034898745055632, 6.643989570666573, 5.438321697617938, 11.575441854672608, 6.623148847090025, 7.637215091709716, 9.003782542709521, 4.648460578115138, 22.121000029966257, 18.83162725363881, 15.558861439403204, 12.93319316819847, 12.77346103880087, 18.96010466910359, 7.755552986004029, 5.854669915744843, 5.73744948512977, 5.35210988881649, 4.6434904321986785, 4.413711451876884, 4.025305363856075, 3.863302177593282, 3.4746740683416224, 3.3170550952137368, 3.1565684890889063, 3.1549072844341555, 2.9269869551288994, 2.7663641985800607, 5.203308209226788, 4.955095252409659, 7.816325224849649, 33.72427246681914, 15.453908105497284, 7.756840483167157, 4.292312163641952, 4.100502203432781, 17.298008406664877, 6.460027423120717, 6.458735123380049, 6.384567937989647, 6.3843126127278955, 5.824237185684138, 8.713261229404827, 4.998852520762248, 4.750767878958093, 4.573144919884184, 4.5517304615445875, 4.4930526716374075, 6.787377160442488, 4.1261522928784204, 4.104609160718793, 3.991433584075786, 3.862693531154765, 19.243938795039483, 3.678729152089724, 3.678106512367254, 6.544289309850002, 6.734428262695525, 4.001527274225514, 20.44673737361962, 17.07081593638971, 16.400197350180207, 11.708764033665796, 7.661312310768402, 5.944898004372291, 5.883393510252524, 4.7436627294494516, 4.069407350889327, 3.7459497505191344, 3.5600975347590587, 3.559251871477793, 3.2929601884168793, 3.2929601884168793, 2.9706784322115505, 8.746369939878551, 2.4224238809156198, 2.421830555873274, 2.3296522576671808, 2.313723331294244, 3.5493716587827593, 10.41911272162325, 3.515396646189325, 3.240110435639928, 9.499045782260763, 7.393806048480609, 6.899141606775554, 5.449603075802117, 5.207603988751088, 4.578545298875656, 3.8751910621164196, 3.683261924472049, 3.5670231254892832, 3.5643460659915025, 3.4036421734853213, 3.287360680487048, 8.205600913746107, 2.8885453890368322, 2.8395304883523695, 2.6767316945768074, 2.277152795332286, 2.276946380621719, 2.1606080828739995, 1.8775688306960943, 4.670903308828551, 3.08997141243573, 2.413571572009195], \"Total\": [58.0, 66.0, 69.0, 41.0, 36.0, 48.0, 33.0, 34.0, 28.0, 30.0, 38.0, 27.0, 21.0, 36.0, 33.0, 34.0, 22.0, 33.0, 25.0, 33.0, 66.95182703971034, 48.48353623524982, 38.63613654352087, 36.53355993672993, 33.27448889214081, 28.929065721951886, 28.929065721951886, 26.756358288362698, 26.756358288362698, 24.583656265156087, 21.32460792888173, 19.151911478273533, 19.151911478273533, 19.15194315087117, 16.979217044280315, 15.892869258419601, 30.462361701064765, 14.806526227316617, 14.806526227316617, 14.806526227316617, 32.36187814965581, 69.06816375306272, 27.13175317024078, 23.594706532120057, 23.333147419953676, 16.1408675673073, 15.597434283617526, 13.250533806065222, 12.879221940529815, 8.807586095130446, 8.790373303188431, 8.038620002909525, 8.038620002909525, 7.652850583644134, 7.652975440792423, 6.997882196622973, 6.6813178432185305, 6.454374471880913, 6.456384303141152, 5.910767898908665, 5.799124268047845, 5.798076984242285, 5.798323390977732, 8.515039315176665, 15.750471777011414, 7.428036676525444, 11.473068859636243, 22.851827163737397, 30.688791703734736, 58.433407542178905, 30.808157560271592, 25.19963851865572, 15.262311869412763, 15.26230995020489, 13.153304208099485, 34.202495393225675, 22.241064014482276, 6.13446835008384, 5.8498750520806375, 33.24324858558705, 21.137539907138287, 5.016289240916086, 4.946754992424277, 4.836798015383986, 4.835843069332236, 18.233416774335723, 34.449173594155745, 3.741003097133739, 3.7131161756510167, 33.47603021151942, 30.688791703734736, 33.860663376474896, 9.613520751965696, 26.95016750704574, 7.242702980027293, 7.585909256964358, 33.29091227871278, 28.778279233145852, 19.61807369030512, 14.35693498871544, 13.937909338767426, 11.407563514436436, 11.14468446352636, 10.570142046569783, 8.36301303223177, 7.181673881548818, 12.719360810061433, 6.364344687006447, 6.364344687006447, 6.000342504894842, 5.899387180150585, 5.726550396708413, 5.31347753915362, 8.594689490219915, 5.186405658999621, 4.939968861387107, 17.430047609146488, 13.239693312395492, 10.78795660484695, 8.248471906784294, 7.408486926379879, 8.672594892799886, 6.0756430341588805, 5.80514038314211, 5.7823501244353395, 5.601359486856724, 5.415517755567654, 5.2783109530128085, 4.944151131365528, 4.94410403308695, 4.890400212517613, 4.806589659887628, 4.613641275154108, 4.612964477433634, 4.562691305015098, 4.42054821275382, 4.142388590621247, 10.717607801731516, 9.952849421549983, 10.437946345886902, 13.009232924055388, 8.475317653289473, 8.017426283167065, 41.10784887506763, 36.028910651278835, 18.065046804986736, 17.92560106389562, 27.050389188315922, 7.170918589741526, 6.933160175365655, 6.831079351038007, 6.831116922820975, 4.998841439328677, 4.957266666872408, 4.916714882877505, 5.304840079661677, 4.04014306627786, 3.761383892187524, 3.7576362831334995, 3.757621815248279, 3.7576402470095793, 3.7576402470095793, 3.658401408030584, 13.16548053992454, 8.75211048994116, 8.456749979404288, 27.13175317024078, 13.009232924055388, 18.621542618393992, 33.860663376474896, 15.750471777011414, 22.73559427545045, 19.446189079449894, 16.278541285170498, 13.54778376958866, 13.388061267445597, 20.035730151133674, 8.36980092354293, 6.469057122539319, 6.351804168329447, 5.966554531618745, 5.258211673789094, 5.028187542884749, 4.639584890870911, 4.478207902183242, 4.0892710605187945, 3.931255457429648, 3.7709282183326236, 3.769528203702278, 3.541294509642918, 3.3809326652032685, 6.36140416194304, 6.069231567578032, 10.55871298595161, 69.06816375306272, 26.95016750704574, 24.03961990968651, 34.449173594155745, 17.077809503588007, 17.904509571719487, 7.0638548576161915, 7.062765994445045, 6.988349626542836, 6.988141253885908, 6.429126545786991, 9.744681703198577, 5.602639285486355, 5.354773011884675, 5.177069754792538, 5.155517241324167, 5.096870388553155, 7.772917074990104, 4.730026919410424, 4.708395256362565, 4.595387528026563, 4.4665206939389375, 22.27966742977086, 4.282660385294994, 4.282134426044196, 8.75933851711711, 9.123583541604475, 5.968816114506026, 21.073144566835314, 17.697141803751467, 17.026489953895595, 12.335080222660471, 8.2877465716622, 6.571217225526317, 6.509686967669262, 5.37109048747276, 4.695737317739854, 4.372521391622789, 4.186522466064344, 4.1858952792771005, 3.919252693041934, 3.919252693041934, 3.5969715999796175, 10.961452705470256, 3.0488322703009314, 3.0483799605883966, 2.9559560481086855, 2.9400167398493378, 4.634487752117272, 18.621542618393992, 5.104638543088303, 9.274927701021696, 10.117527820860394, 8.007424815715902, 7.511589807727147, 6.061985225704233, 5.820333432112785, 5.190914766858525, 4.487591037253184, 4.295632218787982, 4.179522478091028, 4.177340609302876, 4.016042827821955, 3.89984906338241, 9.855409861045576, 3.5009153771436283, 3.452055616408143, 3.2890934170629365, 2.8895169275473678, 2.8893183074439746, 2.7731037417686277, 2.4899251478468605, 8.600643840493241, 5.355634151231581, 4.79197379768944], \"Category\": [\"Default\", \"Default\", \"Default\", \"Default\", \"Default\", \"Default\", \"Default\", \"Default\", \"Default\", \"Default\", \"Default\", \"Default\", \"Default\", \"Default\", \"Default\", \"Default\", \"Default\", \"Default\", \"Default\", \"Default\", \"Topic1\", \"Topic1\", \"Topic1\", \"Topic1\", \"Topic1\", \"Topic1\", \"Topic1\", \"Topic1\", \"Topic1\", \"Topic1\", \"Topic1\", \"Topic1\", \"Topic1\", \"Topic1\", \"Topic1\", \"Topic1\", \"Topic1\", \"Topic1\", \"Topic1\", \"Topic1\", \"Topic1\", \"Topic1\", \"Topic1\", \"Topic2\", \"Topic2\", \"Topic2\", \"Topic2\", \"Topic2\", \"Topic2\", \"Topic2\", \"Topic2\", \"Topic2\", \"Topic2\", \"Topic2\", \"Topic2\", \"Topic2\", \"Topic2\", \"Topic2\", \"Topic2\", \"Topic2\", \"Topic2\", \"Topic2\", \"Topic2\", \"Topic2\", \"Topic2\", \"Topic2\", \"Topic2\", \"Topic2\", \"Topic2\", \"Topic3\", \"Topic3\", \"Topic3\", \"Topic3\", \"Topic3\", \"Topic3\", \"Topic3\", \"Topic3\", \"Topic3\", \"Topic3\", \"Topic3\", \"Topic3\", \"Topic3\", \"Topic3\", \"Topic3\", \"Topic3\", \"Topic3\", \"Topic3\", \"Topic3\", \"Topic3\", \"Topic3\", \"Topic3\", \"Topic3\", \"Topic3\", \"Topic3\", \"Topic3\", \"Topic3\", \"Topic4\", \"Topic4\", \"Topic4\", \"Topic4\", \"Topic4\", \"Topic4\", \"Topic4\", \"Topic4\", \"Topic4\", \"Topic4\", \"Topic4\", \"Topic4\", \"Topic4\", \"Topic4\", \"Topic4\", \"Topic4\", \"Topic4\", \"Topic4\", \"Topic4\", \"Topic4\", \"Topic4\", \"Topic5\", \"Topic5\", \"Topic5\", \"Topic5\", \"Topic5\", \"Topic5\", \"Topic5\", \"Topic5\", \"Topic5\", \"Topic5\", \"Topic5\", \"Topic5\", \"Topic5\", \"Topic5\", \"Topic5\", \"Topic5\", \"Topic5\", \"Topic5\", \"Topic5\", \"Topic5\", \"Topic5\", \"Topic5\", \"Topic5\", \"Topic5\", \"Topic5\", \"Topic5\", \"Topic6\", \"Topic6\", \"Topic6\", \"Topic6\", \"Topic6\", \"Topic6\", \"Topic6\", \"Topic6\", \"Topic6\", \"Topic6\", \"Topic6\", \"Topic6\", \"Topic6\", \"Topic6\", \"Topic6\", \"Topic6\", \"Topic6\", \"Topic6\", \"Topic6\", \"Topic6\", \"Topic6\", \"Topic6\", \"Topic6\", \"Topic6\", \"Topic6\", \"Topic6\", \"Topic6\", \"Topic6\", \"Topic7\", \"Topic7\", \"Topic7\", \"Topic7\", \"Topic7\", \"Topic7\", \"Topic7\", \"Topic7\", \"Topic7\", \"Topic7\", \"Topic7\", \"Topic7\", \"Topic7\", \"Topic7\", \"Topic7\", \"Topic7\", \"Topic7\", \"Topic7\", \"Topic7\", \"Topic7\", \"Topic7\", \"Topic7\", \"Topic7\", \"Topic7\", \"Topic7\", \"Topic7\", \"Topic7\", \"Topic7\", \"Topic8\", \"Topic8\", \"Topic8\", \"Topic8\", \"Topic8\", \"Topic8\", \"Topic8\", \"Topic8\", \"Topic8\", \"Topic8\", \"Topic8\", \"Topic8\", \"Topic8\", \"Topic8\", \"Topic8\", \"Topic8\", \"Topic8\", \"Topic8\", \"Topic8\", \"Topic8\", \"Topic8\", \"Topic8\", \"Topic8\", \"Topic9\", \"Topic9\", \"Topic9\", \"Topic9\", \"Topic9\", \"Topic9\", \"Topic9\", \"Topic9\", \"Topic9\", \"Topic9\", \"Topic9\", \"Topic9\", \"Topic9\", \"Topic9\", \"Topic9\", \"Topic9\", \"Topic9\", \"Topic9\", \"Topic9\", \"Topic9\", \"Topic9\", \"Topic9\", \"Topic9\", \"Topic9\", \"Topic10\", \"Topic10\", \"Topic10\", \"Topic10\", \"Topic10\", \"Topic10\", \"Topic10\", \"Topic10\", \"Topic10\", \"Topic10\", \"Topic10\", \"Topic10\", \"Topic10\", \"Topic10\", \"Topic10\", \"Topic10\", \"Topic10\", \"Topic10\", \"Topic10\", \"Topic10\", \"Topic10\", \"Topic10\", \"Topic10\"], \"logprob\": [20.0, 19.0, 18.0, 17.0, 16.0, 15.0, 14.0, 13.0, 12.0, 11.0, 10.0, 9.0, 8.0, 7.0, 6.0, 5.0, 4.0, 3.0, 2.0, 1.0, -2.937, -3.2634, -3.4939, -3.5508, -3.646, -3.7889, -3.7889, -3.8688, -3.8688, -3.9557, -4.102, -4.213, -4.213, -4.213, -4.3378, -4.4066, -3.7567, -4.4805, -4.4805, -4.4805, -3.8399, -3.5825, -4.4248, -3.8197, -3.8311, -4.2118, -4.2474, -4.4179, -4.4476, -4.8511, -4.8531, -4.9496, -4.9496, -5.003, -5.0031, -5.1006, -5.1515, -5.1896, -5.1894, -5.2873, -5.3087, -5.3089, -5.3089, -4.9528, -4.5983, -5.1326, -5.0272, -4.84, -5.0221, -2.6732, -3.323, -3.5288, -4.0463, -4.0463, -4.2017, -3.2496, -3.7268, -5.0224, -5.0752, -3.338, -3.7995, -5.2487, -5.2647, -5.2904, -5.2907, -3.9869, -3.3592, -5.5909, -5.5999, -3.4291, -3.5847, -3.5666, -4.8193, -4.3372, -5.0677, -5.0509, -3.064, -3.2127, -3.6059, -3.9299, -3.9609, -4.1714, -4.1961, -4.2521, -4.5026, -4.6679, -4.097, -4.8007, -4.8007, -4.866, -4.8849, -4.9182, -5.0023, -4.5245, -5.0297, -5.085, -3.8483, -3.9504, -4.1661, -4.4528, -4.5691, -4.4227, -4.787, -4.8377, -4.8421, -4.8777, -4.9154, -4.9443, -5.0184, -5.0184, -5.0309, -5.0506, -5.0975, -5.0977, -5.1103, -5.1468, -5.2224, -4.3817, -4.63, -4.6226, -4.7212, -4.9605, -5.0183, -2.7777, -2.9117, -3.6197, -3.6277, -3.2237, -4.5994, -4.6364, -4.6527, -4.6528, -5.0025, -5.0121, -5.0215, -4.9558, -5.2498, -5.3349, -5.3361, -5.3361, -5.3361, -5.3361, -5.3683, -4.1725, -4.5849, -4.7851, -4.0297, -4.588, -4.4455, -4.2809, -4.942, -3.3113, -3.4723, -3.6632, -3.8481, -3.8605, -3.4655, -4.3595, -4.6406, -4.6609, -4.7304, -4.8724, -4.9232, -5.0153, -5.0563, -5.1624, -5.2088, -5.2584, -5.2589, -5.3339, -5.3903, -4.7586, -4.8075, -4.3517, -2.8897, -3.67, -4.3593, -4.951, -4.9968, -3.4463, -4.4313, -4.4315, -4.443, -4.443, -4.5349, -4.132, -4.6877, -4.7386, -4.7767, -4.7814, -4.7944, -4.3818, -4.8795, -4.8848, -4.9127, -4.9455, -3.3397, -4.9943, -4.9945, -4.4183, -4.3897, -4.9102, -3.0453, -3.2258, -3.2659, -3.6028, -4.027, -4.2806, -4.291, -4.5064, -4.6597, -4.7425, -4.7934, -4.7936, -4.8714, -4.8714, -4.9744, -3.8945, -5.1784, -5.1786, -5.2174, -5.2243, -4.7964, -3.7195, -4.806, -4.8876, -3.7111, -3.9616, -4.0309, -4.2667, -4.3122, -4.4409, -4.6077, -4.6585, -4.6905, -4.6913, -4.7374, -4.7722, -3.8575, -4.9015, -4.9186, -4.9777, -5.1394, -5.1394, -5.1919, -5.3323, -4.4209, -4.8341, -5.0812], \"loglift\": [20.0, 19.0, 18.0, 17.0, 16.0, 15.0, 14.0, 13.0, 12.0, 11.0, 10.0, 9.0, 8.0, 7.0, 6.0, 5.0, 4.0, 3.0, 2.0, 1.0, 1.7284, 1.7247, 1.7214, 1.7203, 1.7186, 1.7156, 1.7156, 1.7138, 1.7138, 1.7116, 1.7075, 1.704, 1.704, 1.704, 1.6996, 1.6969, 1.6962, 1.6938, 1.6938, 1.6938, 1.5525, 1.0518, 1.1439, 1.8887, 1.8884, 1.8763, 1.8749, 1.8675, 1.8662, 1.8427, 1.8426, 1.8356, 1.8356, 1.8313, 1.8312, 1.8232, 1.8186, 1.815, 1.8149, 1.8053, 1.803, 1.803, 1.8029, 1.7748, 1.5142, 1.7315, 1.4022, 0.9004, 0.4234, 2.1283, 2.1186, 2.1138, 2.0978, 2.0977, 2.091, 2.0875, 2.0406, 2.0331, 2.0277, 2.0275, 2.0188, 2.008, 2.006, 2.0028, 2.0027, 1.9792, 1.9707, 1.9592, 1.9576, 1.9294, 1.8608, 1.7805, 1.787, 1.2382, 1.8218, 1.7922, 2.3001, 2.2971, 2.287, 2.2752, 2.2739, 2.2637, 2.2624, 2.2592, 2.243, 2.23, 2.2292, 2.218, 2.218, 2.2116, 2.2096, 2.206, 2.1968, 2.1938, 2.1936, 2.187, 2.1629, 2.3357, 2.3248, 2.3066, 2.2977, 2.2866, 2.2781, 2.2729, 2.2725, 2.2687, 2.2648, 2.2615, 2.2528, 2.2528, 2.2512, 2.2488, 2.2428, 2.2428, 2.2412, 2.2363, 2.2257, 2.1158, 1.9415, 1.9014, 1.5825, 1.7717, 1.7694, 2.3755, 2.3734, 2.3557, 2.3554, 2.348, 2.2999, 2.2966, 2.2952, 2.2952, 2.2577, 2.2564, 2.2553, 2.245, 2.2233, 2.2097, 2.2095, 2.2095, 2.2095, 2.2095, 2.204, 2.1193, 2.1152, 1.9493, 1.539, 1.7157, 1.4995, 1.0662, 1.1705, 2.4341, 2.4294, 2.4163, 2.4151, 2.4145, 2.4063, 2.3853, 2.3617, 2.3598, 2.3529, 2.3372, 2.3312, 2.3195, 2.3138, 2.2987, 2.2916, 2.2837, 2.2835, 2.271, 2.2609, 2.2606, 2.2587, 2.1608, 1.7447, 1.9054, 1.3304, 0.3789, 1.0349, 2.5381, 2.4832, 2.4831, 2.4822, 2.4821, 2.4737, 2.4606, 2.4585, 2.4528, 2.4485, 2.448, 2.4464, 2.4369, 2.4359, 2.4353, 2.4316, 2.4273, 2.426, 2.4205, 2.4205, 2.281, 2.2689, 2.1726, 2.7761, 2.7702, 2.7688, 2.7541, 2.7276, 2.7061, 2.7051, 2.682, 2.6631, 2.6516, 2.6442, 2.6441, 2.6321, 2.6321, 2.6149, 2.5805, 2.5762, 2.5761, 2.5681, 2.5667, 2.5395, 2.2256, 2.4332, 1.7545, 2.844, 2.8274, 2.8221, 2.8006, 2.7959, 2.7816, 2.7604, 2.7533, 2.7487, 2.7484, 2.7417, 2.7363, 2.7239, 2.7148, 2.7118, 2.7011, 2.669, 2.6689, 2.6575, 2.6248, 2.2966, 2.3571, 2.2213]}, \"token.table\": {\"Topic\": [2, 5, 5, 2, 3, 9, 9, 8, 8, 7, 8, 2, 5, 9, 10, 4, 7, 6, 6, 9, 9, 9, 4, 7, 9, 4, 7, 10, 9, 6, 10, 5, 2, 7, 2, 6, 3, 5, 7, 9, 5, 9, 3, 3, 10, 5, 6, 3, 1, 3, 4, 2, 4, 7, 5, 8, 8, 9, 4, 8, 9, 3, 3, 2, 6, 8, 2, 5, 8, 7, 5, 2, 2, 3, 2, 5, 4, 7, 6, 7, 2, 3, 10, 9, 2, 5, 1, 1, 1, 2, 3, 7, 2, 4, 5, 2, 2, 9, 3, 8, 2, 9, 10, 5, 3, 4, 6, 7, 3, 7, 5, 7, 8, 4, 4, 7, 8, 4, 1, 7, 1, 7, 8, 1, 4, 5, 7, 9, 7, 8, 6, 6, 6, 5, 6, 1, 2, 2, 1, 10, 3, 5, 10, 5, 7, 6, 1, 2, 8, 1, 2, 4, 9, 1, 1, 6, 10, 1, 2, 3, 3, 9, 2, 10, 6, 9, 3, 4, 6, 3, 1, 6, 7, 2, 3, 5, 4, 8, 8, 6, 9, 2, 7, 9, 5, 6, 9, 1, 8, 2, 3, 1, 10, 10, 5, 5, 1, 8, 10, 10, 4, 4, 8, 4, 8, 3, 5, 5, 7, 9, 2, 3, 6, 1, 7, 4, 2, 1, 2, 1, 9, 10, 3, 5, 6, 5, 6, 4, 10, 8, 2, 10, 6, 3, 4, 10, 6, 8, 1, 1, 5, 7, 9, 5, 7, 2, 6, 4, 6, 8, 4, 4, 8, 7, 2, 3, 5, 7, 3, 7, 5, 5, 1, 10, 9, 5, 2, 7, 3, 3, 5, 3, 6, 9, 2, 6, 1, 4, 2, 6, 6, 5, 6, 6, 10, 7, 2, 3, 7, 9, 10, 6, 6, 7, 10, 3, 1, 7, 7, 4, 10, 4, 1, 1, 6, 3, 8, 8, 3, 9, 2, 3, 10], \"Freq\": [0.35396903369582006, 0.5899483894930334, 0.8090444645240444, 0.991272614887652, 0.21577357703516398, 0.8630943081406559, 0.8518364059438646, 0.8495255265032249, 0.9698347936696603, 0.9508936327009777, 0.7847953145882286, 0.6101244650092632, 0.08716063785846617, 0.17432127571693234, 0.08716063785846617, 0.9460610799686646, 0.89321444813893, 0.8654062286515052, 0.18245756778222566, 0.8210590550200154, 0.9490752524649683, 0.9728351809139512, 0.9747031284704287, 0.82382752154492, 0.164765504308984, 0.991261510760737, 0.9710143791775732, 0.9121054404951842, 0.9148039864741442, 0.9410437838061545, 0.931178414787243, 0.9224459459811407, 0.8623182362991457, 0.8621460958437485, 0.2278686289423656, 0.759562096474552, 0.10781755203222158, 0.32345265609666474, 0.21563510406444317, 0.32345265609666474, 0.19590025651355927, 0.7836010260542371, 0.8547191103204229, 0.8019239551815724, 0.891346819884988, 0.23649747300923332, 0.5912436825230833, 0.9828130972779777, 0.9455290042421528, 0.8992375538767836, 0.044961877693839185, 0.8459137772814892, 0.9640587969288203, 0.8471478415113521, 0.9048651451101727, 0.9341135989733911, 0.8955516551010263, 0.6802682355143633, 0.8605828472969109, 0.11474437963958813, 0.9130728439006115, 0.9883448139209703, 0.8086108986852617, 0.698391778718339, 0.3174508085083359, 0.8493945757578595, 0.8707962308787325, 0.8321908635931936, 0.8704380154240778, 0.7955152758095293, 0.8766755698776699, 0.9616966308205556, 0.8077504542972416, 0.13462507571620694, 0.8220748890170883, 0.11743926985958404, 0.8731259927222451, 0.9274921965204106, 0.806896273450555, 0.9595665402618622, 0.1867192514951829, 0.1867192514951829, 0.5601577544855487, 0.9652804813498913, 0.9146918424045254, 0.8926404405452318, 0.9678846966272092, 0.9853953477938102, 0.9423284924312704, 0.0290282725438049, 0.8418199037703421, 0.1161130901752196, 0.8621991474728556, 0.9870176258466649, 0.9269596056316237, 0.8574022584854988, 0.9296020902009269, 0.9397121804508664, 0.7281411441868159, 0.2080403269105188, 0.914676919344091, 0.9309096563652631, 0.8690474121391747, 0.9656264525873723, 0.7087870586928396, 0.029532794112201655, 0.2657951470098149, 0.838004575924572, 0.40816072839340256, 0.556582811445549, 0.923272755381429, 0.7958555654401316, 0.9005628044743951, 0.9565930328181139, 0.8332857659243947, 0.134651920162475, 0.8527954943623415, 0.9642725184987435, 0.5067457725549853, 0.4922673219105571, 0.10960605505938512, 0.10960605505938512, 0.7672423854156959, 0.45757795012256686, 0.1247939863970637, 0.0831959909313758, 0.3327839637255032, 0.7654520478677137, 0.9676456983468986, 0.8585974126758771, 0.8200302988662419, 0.8783336704361726, 0.8783385013802071, 0.03696804482324925, 0.9611691654044806, 0.6126424771064264, 0.3500814154893865, 0.9083078965782752, 0.9920680774633975, 0.9575470075607575, 0.659116769082055, 0.263646707632822, 0.8569187417628125, 0.8671213532139209, 0.9770551917588104, 0.9483642941401895, 0.9717316429907554, 0.9100864916735961, 0.8456611491121454, 0.9920680774633975, 0.07862030293290895, 0.9434436351949074, 0.6559888582531279, 0.9438195052195132, 0.9455290042421528, 0.7983742368748619, 0.9570471318118084, 0.8343149886153058, 0.061801110267800434, 0.061801110267800434, 0.9925828809167759, 0.6766000466345443, 0.9857221396686167, 0.7692605409189979, 0.4296099503645717, 0.5370124379557146, 0.9024388793641187, 0.06016259195760792, 0.03008129597880396, 0.8079467105480516, 0.552857749585184, 0.4422861996681472, 0.7955600919198876, 0.22809630524319796, 0.7494592886562219, 0.8090367575182188, 0.8475456597972219, 0.9494814662140661, 0.8585718117495251, 0.800185412669777, 0.9554469210242434, 0.1894170248458315, 0.757668099383326, 0.9217033061342808, 0.46121089806189824, 0.5380793810722146, 0.9606070962485204, 0.985783404549277, 0.933746395767426, 0.029237632766352634, 0.9356042485232843, 0.9847777773938772, 0.859057313179564, 0.6922047996052374, 0.9472727250269423, 0.8647003194896058, 0.9900267952217093, 0.10146711441729005, 0.8117369153383204, 0.8032369975978921, 0.9684946799536919, 0.9327080327493098, 0.8924365366430973, 0.9410033190422493, 0.9332527454964784, 0.9920777229201948, 0.9818958561395768, 0.9698766135603943, 0.9828890512797824, 0.7654520478677137, 0.8623548831084413, 0.8775096954137884, 0.10968871192672355, 0.15719799820022096, 0.7859899910011048, 0.9751384965526423, 0.8980264284373088, 0.9835351926866625, 0.9747949171857481, 0.9762583621060738, 0.6560861919634065, 0.6921572187146199, 0.09330440323058303, 0.7464352258446643, 0.09330440323058303, 0.4989132246090212, 0.3741849184567659, 0.34881109549909606, 0.5813518258318268, 0.9657973017209938, 0.4173645525700382, 0.4173645525700382, 0.7425479619868678, 0.8988747074385688, 0.09461839025669146, 0.7212135521206436, 0.8135513437905518, 0.8495463490654711, 0.9717316429907554, 0.10047373949361603, 0.6028424369616961, 0.10047373949361603, 0.10047373949361603, 0.5748257177394205, 0.28741285886971024, 0.9317333030993915, 0.7983773108369022, 0.9729560191267637, 0.22832774370937817, 0.7991471029828235, 0.8097217031600538, 0.10262007836251458, 0.9235807052626313, 0.8873291180496297, 0.2927775953320894, 0.2927775953320894, 0.17566655719925364, 0.2342220762656715, 0.6903499996877075, 0.13806999993754152, 0.8179289682184868, 0.8669941509196312, 0.9920664368271029, 0.963221363587508, 0.9555900788542411, 0.9448623004347415, 0.04991083391804503, 0.9483058444428556, 0.8269933925869026, 0.9828132208649473, 0.8613056136454159, 0.9737680658542935, 0.7998070874499507, 0.2285163106999859, 0.9810925499506635, 0.9714420826863852, 0.991750770596941, 0.9308073327260251, 0.8707962308787325, 0.7983733946823335, 0.7983733946823335, 0.8229581579906309, 0.9730501861473089, 0.7975787864224828, 0.8741886637838093, 0.7631149978641871, 0.1493606012543104, 0.806547246773276, 0.029872120250862076, 0.029872120250862076, 0.8248123038635647, 0.9425354817329162, 0.9761650355386775, 0.9446135052331166, 0.931893271488164, 0.7974021847411477, 0.9455290042421528, 0.9558172378386278, 0.7336270830673177, 0.9427522070339308, 0.8895453671443071, 0.9427522070339308, 0.9678846966272092, 0.9519944738554644, 0.032827395650188426, 0.1675374112413512, 0.6701496449654047, 0.9339988792327449, 0.827156701044963, 0.8340349420654307, 0.9293127109984589, 0.9780798689617491, 0.7470039859179013], \"Term\": [\"absolute\", \"absolute\", \"acceleration\", \"accepted\", \"affect\", \"affect\", \"algebra\", \"alternately\", \"apple\", \"approx_imation\", \"arg_max\", \"arrow\", \"arrow\", \"arrow\", \"arrow\", \"attenuation\", \"avoids\", \"background\", \"base_classi\\ufb01er\", \"base_classi\\ufb01er\", \"base_classi\\ufb01ers\", \"base_learner\", \"battery\", \"bayesian_mixture_gaussians\", \"bayesian_mixture_gaussians\", \"beam\", \"becker\", \"bern\", \"bimodal\", \"blind\", \"bpb\", \"cancer\", \"carry\", \"ce\", \"centred\", \"centred\", \"classification\", \"classification\", \"classification\", \"classification\", \"classi\\ufb01ed\", \"classi\\ufb01ed\", \"co\", \"co_sin\", \"coin\", \"colour\", \"colour\", \"communication\", \"component_analysis\", \"computer\", \"computer\", \"conservation\", \"consideration\", \"considers\", \"consistency\", \"contribute\", \"convergence_criterion_satis\\ufb01ed\", \"convolutional_layer\", \"con\\ufb01gurations\", \"con\\ufb01gurations\", \"correctly_classi\\ufb01ed\", \"cox\", \"create\", \"cross_entropy\", \"cross_entropy\", \"cycling\", \"dard\", \"decompose\", \"decomposes\", \"depicted\", \"derivation\", \"detailed_balance\", \"deterministic\", \"deterministic\", \"deviation\", \"deviation\", \"diagnosis\", \"differentiating\", \"distributed_according\", \"document\", \"draw\", \"draw\", \"draw\", \"duration\", \"dynamical\", \"ease\", \"ed\", \"ed_advance_neural\", \"ed_proceeding\", \"eigenvalue\", \"eigenvalue\", \"eigenvalue\", \"ellipse\", \"empty\", \"envelope\", \"ergodic\", \"ergodicity\", \"eruption\", \"event\", \"event\", \"evolution\", \"evolves\", \"explain\", \"extending\", \"fast\", \"fast\", \"fast\", \"figure_left_hand\", \"fisher\", \"fisher\", \"force\", \"fore\", \"fruit\", \"fuel_gauge\", \"fuel_tank\", \"gam\", \"gam\", \"gas\", \"gaussian_process\", \"gaussian_process\", \"generating\", \"generating\", \"generating\", \"generative\", \"generative\", \"generative\", \"generative\", \"geyser\", \"ghahramani\", \"global_maximum\", \"grey\", \"growing\", \"hierarchical_mixture\", \"hinton\", \"hinton\", \"homogeneous\", \"homogeneous\", \"horizontal\", \"ieee\", \"ignoring\", \"improved\", \"improved\", \"inde\\ufb01nite\", \"indicating\", \"information_criterion\", \"information_processing\", \"information_processing_system_volume\", \"initialized\", \"inspection\", \"intelligence\", \"intensity\", \"intensity\", \"interaction\", \"international\", \"international_conference\", \"interpretability\", \"invert\", \"jordan\", \"jordan\", \"jordan\", \"journal\", \"kij\", \"leapfrog_integration\", \"left_hand_plot\", \"logistic_regression_model\", \"logistic_regression_model\", \"machine\", \"machine\", \"machine\", \"malization\", \"margin\", \"margin\", \"marginalized\", \"markov_chain_monte_carlo\", \"markov_chain_monte_carlo\", \"matched\", \"material\", \"mathematics\", \"max_max\", \"maximum_margin_classi\\ufb01ers\", \"mechanism\", \"min_max\", \"min_max\", \"minute\", \"misclassi\\ufb01cation_rate\", \"misclassi\\ufb01cation_rate\", \"misclassi\\ufb01ed\", \"mit_press\", \"mixing\", \"monte_carlo\", \"monte_carlo\", \"morgan_kaufmann\", \"motivated\", \"mult\", \"multiplicative\", \"negative_logarithm\", \"neural_computation\", \"observing\", \"observing\", \"occurrence\", \"oil_water\", \"oil_water_gas\", \"orange\", \"orientation\", \"originally\", \"orthogonal\", \"output_unit\", \"output_unit_activation\", \"pac\", \"park\", \"passed\", \"pca\", \"pca\", \"penalty\", \"penalty\", \"pipe\", \"preserve\", \"press\", \"principal_component_analysis\", \"proceeding\", \"proceeds\", \"pronounced\", \"proven\", \"proven\", \"proven\", \"pure\", \"pure\", \"radius\", \"radius\", \"randomly\", \"reasonably\", \"reasonably\", \"received_message_neighbour\", \"recognition\", \"recognition\", \"recover\", \"recursive\", \"red_box\", \"reference\", \"regularizer\", \"regularizer\", \"regularizer\", \"regularizer\", \"rejected\", \"rejected\", \"rejection_rate\", \"relaxed\", \"research\", \"responsible_generating\", \"responsible_generating\", \"retain\", \"revised\", \"revised\", \"rewrite\", \"sample_drawn\", \"sample_drawn\", \"sample_drawn\", \"sample_drawn\", \"sampled\", \"sampled\", \"schematic\", \"schematically\", \"science\", \"segmentation\", \"separation_criterion\", \"shaded\", \"slice\", \"slice\", \"slope\", \"society\", \"somewhat\", \"sparse\", \"sparse_kernel_machine\", \"sparse_kernel_machine\", \"speech_recognition\", \"split\", \"springer\", \"squared_loss\", \"stan\", \"stop\", \"subdivided\", \"succession\", \"support_vector_machine\", \"svms\", \"tangent_line\", \"testing\", \"theorem\", \"theorem\", \"theorem\", \"theorem\", \"transmit\", \"traversal\", \"unconditional\", \"uncorrelated\", \"uniformly_distributed\", \"unit_circle\", \"university\", \"valid_kernel\", \"varying\", \"velocity\", \"veri\\ufb01ed\", \"water\", \"wiley\", \"williams\", \"williams\", \"without_loss_generality\", \"without_loss_generality\", \"working\", \"worth_emphasizing\", \"yellowstone\", \"\\ufb02at\", \"\\ufb02exibility\", \"\\ufb02ipping\"]}, \"R\": 20, \"lambda.step\": 0.01, \"plot.opts\": {\"xlab\": \"PC1\", \"ylab\": \"PC2\"}, \"topic.order\": [5, 8, 9, 6, 7, 3, 2, 1, 4, 10]};\n",
              "\n",
              "function LDAvis_load_lib(url, callback){\n",
              "  var s = document.createElement('script');\n",
              "  s.src = url;\n",
              "  s.async = true;\n",
              "  s.onreadystatechange = s.onload = callback;\n",
              "  s.onerror = function(){console.warn(\"failed to load library \" + url);};\n",
              "  document.getElementsByTagName(\"head\")[0].appendChild(s);\n",
              "}\n",
              "\n",
              "if(typeof(LDAvis) !== \"undefined\"){\n",
              "   // already loaded: just create the visualization\n",
              "   !function(LDAvis){\n",
              "       new LDAvis(\"#\" + \"ldavis_el2494019473727391526794125978\", ldavis_el2494019473727391526794125978_data);\n",
              "   }(LDAvis);\n",
              "}else if(typeof define === \"function\" && define.amd){\n",
              "   // require.js is available: use it to load d3/LDAvis\n",
              "   require.config({paths: {d3: \"https://d3js.org/d3.v5\"}});\n",
              "   require([\"d3\"], function(d3){\n",
              "      window.d3 = d3;\n",
              "      LDAvis_load_lib(\"https://cdn.jsdelivr.net/gh/bmabey/pyLDAvis@3.4.0/pyLDAvis/js/ldavis.v3.0.0.js\", function(){\n",
              "        new LDAvis(\"#\" + \"ldavis_el2494019473727391526794125978\", ldavis_el2494019473727391526794125978_data);\n",
              "      });\n",
              "    });\n",
              "}else{\n",
              "    // require.js not available: dynamically load d3 & LDAvis\n",
              "    LDAvis_load_lib(\"https://d3js.org/d3.v5.js\", function(){\n",
              "         LDAvis_load_lib(\"https://cdn.jsdelivr.net/gh/bmabey/pyLDAvis@3.4.0/pyLDAvis/js/ldavis.v3.0.0.js\", function(){\n",
              "                 new LDAvis(\"#\" + \"ldavis_el2494019473727391526794125978\", ldavis_el2494019473727391526794125978_data);\n",
              "            })\n",
              "         });\n",
              "}\n",
              "</script>"
            ],
            "text/plain": [
              "PreparedData(topic_coordinates=              x         y  topics  cluster       Freq\n",
              "topic                                                \n",
              "4      0.017328  0.445871       1        1  17.585508\n",
              "7      0.029920 -0.342002       2        1  14.732183\n",
              "8     -0.302657 -0.172987       3        1  11.778180\n",
              "5     -0.188208  0.184385       4        1   9.841592\n",
              "6      0.151617 -0.155536       5        1   9.235873\n",
              "2      0.325841 -0.053912       6        1   9.155397\n",
              "1      0.172934  0.180591       7        1   8.530434\n",
              "0     -0.072428 -0.133298       8        1   7.634342\n",
              "3     -0.207491  0.028553       9        1   6.043203\n",
              "9      0.073144  0.018334      10        1   5.463289, topic_info=                        Term       Freq      Total Category  logprob  loglift\n",
              "623                  journal  58.000000  58.000000  Default  20.0000  20.0000\n",
              "2326               mit_press  66.000000  66.000000  Default  19.0000  19.0000\n",
              "1376        gaussian_process  69.000000  69.000000  Default  18.0000  18.0000\n",
              "1136  support_vector_machine  41.000000  41.000000  Default  17.0000  17.0000\n",
              "2182                   split  36.000000  36.000000  Default  16.0000  16.0000\n",
              "...                      ...        ...        ...      ...      ...      ...\n",
              "957                  recover   2.160608   2.773104  Topic10  -5.1919   2.6575\n",
              "2275              occurrence   1.877569   2.489925  Topic10  -5.3323   2.6248\n",
              "444                   radius   4.670903   8.600644  Topic10  -4.4209   2.2966\n",
              "615                     draw   3.089971   5.355634  Topic10  -4.8341   2.3571\n",
              "1759              reasonably   2.413572   4.791974  Topic10  -5.0812   2.2213\n",
              "\n",
              "[269 rows x 6 columns], token_table=      Topic      Freq               Term\n",
              "term                                    \n",
              "2168      2  0.353969           absolute\n",
              "2168      5  0.589948           absolute\n",
              "2120      5  0.809044       acceleration\n",
              "2012      2  0.991273           accepted\n",
              "1         3  0.215774             affect\n",
              "...     ...       ...                ...\n",
              "1055      3  0.827157  worth_emphasizing\n",
              "2274      9  0.834035        yellowstone\n",
              "986       2  0.929313                ﬂat\n",
              "827       3  0.978080         ﬂexibility\n",
              "705      10  0.747004            ﬂipping\n",
              "\n",
              "[313 rows x 3 columns], R=20, lambda_step=0.01, plot_opts={'xlab': 'PC1', 'ylab': 'PC2'}, topic_order=[5, 8, 9, 6, 7, 3, 2, 1, 4, 10])"
            ]
          },
          "execution_count": 16,
          "metadata": {},
          "output_type": "execute_result"
        }
      ],
      "source": [
        "vis"
      ]
    },
    {
      "cell_type": "code",
      "execution_count": 17,
      "metadata": {
        "id": "yh4o3nIWDHt0"
      },
      "outputs": [
        {
          "name": "stdout",
          "output_type": "stream",
          "text": [
            "['title', 'inside', 'native', 'application', 'msdate', '11012006', 'mstopic', 'conceptual', 'msprod', 'windowssysinternals', 'mstechnology', 'systemutilities', 'description', 'article', 'i am', 'going', 'describe', 'native', 'application', 'built', 'work', 'inside', 'native', 'application', 'mark', 'russinovich', 'published', 'november', '1', '2006', 'introduction', 'familiarity', 'nt', 'architecture', 'probably', 'aware', 'api', 'win32', 'application', 'use', 'is not', 'real', 'nt', 'api', 'nt', 'operating', 'environment', 'include', 'posix', 'os2', 'win32', 'talk', 'client', 'application', 'via', 'apis', 'talk', 'nt', 'using', 'nt', 'native', 'api', 'native', 'api', 'mostly', 'undocumented', '25', '250', 'function', 'described', 'window', 'nt', 'device', 'driver', 'kit', 'people', 'do not', 'know', 'however', 'native', 'application', 'exist', 'nt', 'client', 'operating', 'environment', 'program', 'speak', 'native', 'nt', 'api', 'cannot', 'use', 'operating', 'environment', 'apis', 'like', 'win32', 'would', 'program', 'needed', 'program', 'must', 'run', 'win32', 'subsystem', 'started', 'around', 'time', 'logon', 'box', 'appears', 'must', 'native', 'application', 'visible', 'example', 'native', 'application', 'autochk', 'program', 'run', 'chkdsk', 'initialization', 'blue', 'screen', 'program', 'print', 'screen', 'naturally', 'win32', 'operating', 'environment', 'server', 'csrssexe', 'clientserver', 'runtime', 'subsystem', 'must', 'also', 'native', 'application', 'article', 'i am', 'going', 'describe', 'native', 'application', 'built', 'work', 'autochk', 'get', 'executed', 'autochk', 'run', 'time', 'nt', 'boot', 'system', 'start', 'driver', 'loaded', 'paging', 'turned', 'point', 'boot', 'sequence', 'session', 'manager', 'smssexe', 'getting', 'nt', 'usermode', 'environment', 'offtheground', 'program', 'active', 'hklmsystemcurrentcontrolsetcontrolsession', 'managerbootexecute', 'value', 'multisz', 'contains', 'name', 'argument', 'program', 'executed', 'session', 'manager', 'autochk', 'specified', 'you will', 'typically', 'find', 'look', 'value', 'autochk', 'passed', 'argument', 'she will', 'autocheck', 'autochk', 'session', 'manager', 'look', 'winntsystem32', 'directory', 'executables', 'listed', 'value', 'autochk', 'run', 'file', 'open', 'autochk', 'open', 'volume', 'rawmode', 'including', 'boot', 'drive', 'manipulate', 'ondisk', 'data', 'structure', 'would not', 'possible', 'later', 'point', 'building', 'native', 'application', 'microsoft', 'does not', 'document', 'nt', 'ddk', 'build', 'utility', 'know', 'make', 'native', 'application', 'probably', 'used', 'compile', 'autochk', 'specify', 'information', 'source', 'file', 'defines', 'application', 'would', 'done', 'device', 'driver', 'however', 'instead', 'indicating', 'build', 'want', 'driver', 'tell', 'want', 'native', 'applicationin', 'source', 'file', 'like', 'she will', 'targettypeprogram', 'build', 'utility', 'us', 'standard', 'makefile', 'guide', 'ddkincmakefiledef', 'look', 'runtime', 'library', 'named', 'ntlib', 'compiling', 'native', 'application', 'unfortunately', 'microsoft', 'does not', 'ship', 'file', 'ddk', 'included', 'server', '2003', 'ddk', 'suspect', 'link', 'version', 'native', 'application', 'will not', 'run', 'xp', 'window', '2000', 'however', 'work', 'around', 'problem', 'including', 'line', 'makefiledef', 'override', 'selection', 'ntlib', 'specifying', 'visual', 'c++s', 'runtime', 'library', 'msvcrtlib', 'run', 'build', 'ddks', 'checked', 'build', 'environment', 'produce', 'native', 'application', 'full', 'debug', 'information', 'basedirlibcpuchecked', 'eg', 'cddklibi386checkednativeexe', 'invoke', 'free', 'build', 'environment', 'release', 'version', 'program', 'end', 'basedirlibcpufree', 'place', 'device', 'driver', 'image', 'placed', 'build', 'native', 'application', 'exe', 'file', 'extension', 'run', 'like', 'win32', 'ex', 'try', 'you will', 'get', 'message', 'application', 'name', 'application', 'run', 'window', 'nt', 'mode', 'inside', 'native', 'application', 'instead', 'winmain', 'main', 'entry', 'point', 'native', 'application', 'ntprocessstartup', 'also', 'unlike', 'win32', 'entry', 'point', 'native', 'application', 'must', 'reach', 'data', 'structure', 'passed', 'sole', 'parameter', 'locate', 'commandline', 'argument', 'majority', 'native', 'application', 'runtime', 'environment', 'provided', 'ntdlldll', 'nt', 'native', 'api', 'export', 'library', 'native', 'application', 'must', 'create', 'heap', 'allocate', 'storage', 'using', 'rtlcreateheap', 'ntdll', 'function', 'memory', 'allocated', 'heap', 'rtlallocateheap', 'freed', 'rtlfreeheap', 'native', 'application', 'wish', 'print', 'something', 'screen', 'must', 'use', 'function', 'ntdisplaystring', 'output', 'initialization', 'blue', 'screen', 'native', 'application', 'do not', 'simply', 'return', 'startup', 'function', 'like', 'win32', 'program', 'since', 'runtime', 'code', 'return', 'instead', 'must', 'terminate', 'calling', 'ntprocessterminate', 'ntdll', 'runtime', 'consists', 'hundred', 'function', 'allow', 'native', 'application', 'perform', 'file', 'io', 'interact', 'device', 'driver', 'perform', 'interprocess', 'communication', 'unfortunately', 'stated', 'earlier', 'vast', 'majority', 'function', 'undocumented']\n"
          ]
        }
      ],
      "source": [
        "# Next step: Copy a msdn or msvc doc webpage and pass it through all the steps. And see the plot for it\n",
        "with open(\"ms-text.md\", \"r\") as f:\n",
        "    ms_text = f.read()\n",
        "    f.close()\n",
        "\n",
        "ms_text = preprocess(ms_text)\n",
        "\n",
        "print(ms_text)"
      ]
    },
    {
      "cell_type": "code",
      "execution_count": null,
      "metadata": {},
      "outputs": [],
      "source": [
        "ms_text = make_phrases([ms_text])\n",
        "print(ms_text)\n",
        "id2word.add_documents(ms_text)\n",
        "ms_corpus = [id2word.doc2bow(text) for text in ms_text]\n",
        "print(ms_corpus)\n",
        "print(id2word)\n",
        "\n",
        "lda_model = gensim.models.ldamodel.LdaModel(corpus=data_corpus+ms_corpus,\n",
        "                                            id2word=id2word,\n",
        "                                            num_topics=10,\n",
        "                                            random_state=100,\n",
        "                                            update_every=1,\n",
        "                                            chunksize=100,\n",
        "                                            passes=10,\n",
        "                                            alpha='auto')\n",
        "\n",
        "ms_lda = lda_model[ms_corpus[0]]\n",
        "print(ms_lda)\n",
        "\n",
        "vis = gensimvis.prepare(lda_model, ms_corpus, id2word, mds='mmds', R=20)"
      ]
    },
    {
      "cell_type": "code",
      "execution_count": 19,
      "metadata": {},
      "outputs": [
        {
          "data": {
            "text/html": [
              "\n",
              "<link rel=\"stylesheet\" type=\"text/css\" href=\"https://cdn.jsdelivr.net/gh/bmabey/pyLDAvis@3.4.0/pyLDAvis/js/ldavis.v1.0.0.css\">\n",
              "\n",
              "\n",
              "<div id=\"ldavis_el2494019474369015842280084642\" style=\"background-color:white;\"></div>\n",
              "<script type=\"text/javascript\">\n",
              "\n",
              "var ldavis_el2494019474369015842280084642_data = {\"mdsDat\": {\"x\": [-0.110000493564488, 0.17020152882843353, 0.16572680135876608, -0.05066647337035062, -0.28661413712946665, -0.009070202150910816, 0.3557808436445067, -0.25185499121189786, 0.12690952439083988, -0.11041240079543241], \"y\": [0.35910459510923437, -0.22662219899035063, 0.2040200934741716, -0.08021969442718196, 0.11423214020310585, 0.1495458597644487, -0.00039776909127252, -0.09196930795755749, 0.0019792865614888543, -0.42967300464608665], \"topics\": [1, 2, 3, 4, 5, 6, 7, 8, 9, 10], \"cluster\": [1, 1, 1, 1, 1, 1, 1, 1, 1, 1], \"Freq\": [93.17226192346962, 3.914890224818607, 1.078683367976113, 0.6378877701450796, 0.611398813005068, 0.48435392894424134, 0.03537215086895389, 0.0296617142565181, 0.024118076068780057, 0.01137203044701925]}, \"tinfo\": {\"Term\": [\"homogeneous\", \"base_classi\\ufb01er\", \"correctly_normalized\", \"communication\", \"deterministic\", \"conditioning\", \"unfortunately\", \"aspect\", \"beam\", \"passed\", \"open\", \"hierarchical_mixture\", \"highlight\", \"little\", \"devise\", \"designed\", \"interact\", \"published\", \"keep_notation_uncluttered\", \"leapfrog_integration\", \"application\", \"native\", \"nt\", \"autochk\", \"program\", \"detailed_balance\", \"environment\", \"run\", \"win32\", \"build\", \"must\", \"driver\", \"api\", \"file\", \"function\", \"runtime\", \"initialized\", \"parent_child\", \"device\", \"like\", \"beam\", \"leapfrog_integration\", \"oil_water\", \"accepted\", \"con\\ufb01gurations\", \"pipe\", \"oil_water_gas\", \"intensity\", \"gas\", \"attenuation\", \"rejection_rate\", \"envelope\", \"proven\", \"dard\", \"stan\", \"horizontal\", \"rejected\", \"eigenvalue\", \"majority\", \"session\", \"sample_drawn\", \"empty\", \"regularizer\", \"veri\\ufb01ed\", \"fuel_gauge\", \"observing\", \"improved\", \"battery\", \"want\", \"fuel_tank\", \"indicating\", \"succession\", \"ce\", \"misclassi\\ufb01cation_rate\", \"multiplicative\", \"main\", \"exponential_quadratic\", \"coin\", \"matched\", \"bpb\", \"invert\", \"absolute\", \"uniformly_distributed\", \"univariate\", \"sampled\", \"\\ufb02exibility\", \"figure_left_hand\", \"co\", \"motivated\", \"bimodal\", \"unit_circle\", \"\\ufb02at\", \"avoids\", \"responsible\", \"unimodal\", \"draw\", \"focussed\", \"count\", \"storage\", \"co_sin\", \"successively\", \"attention\", \"radius\", \"generating\", \"conditioning\", \"diag\", \"sample_drawn\", \"journal\", \"support_vector_machine\", \"margin\", \"monte_carlo\", \"markov_chain_monte_carlo\", \"platt\", \"society\", \"vapnik\", \"generative\", \"dietterich\", \"computer\", \"functional_derivative\", \"background\", \"jordan\", \"logistic_regression_model\", \"create\", \"applicability\", \"improvement\", \"centred\", \"employed\", \"sparse_kernel_machine\", \"communication\", \"base_classi\\ufb01ers\", \"principal_component_analysis\", \"misclassi\\ufb01ed\", \"base_learner\", \"arrow\", \"correctly_classi\\ufb01ed\", \"evolves\", \"evolution\", \"responsible_generating\", \"adjusted\", \"theorem\", \"emphasis\", \"quaternion\", \"ignoring\", \"implied\", \"classi\\ufb01ed\", \"previously\", \"fore\", \"advantageous\", \"decreased\", \"logistic_regression_model\", \"dashed\", \"base_classi\\ufb01er\", \"conservation\", \"press\", \"machine\", \"hinton\", \"split\", \"research\", \"ghahramani\", \"recognition\", \"eruption\", \"information_criterion\", \"cross_entropy\", \"mathematics\", \"pac\", \"becker\", \"speech_recognition\", \"cox\", \"duration\", \"output_unit\", \"growing\", \"minute\", \"cancer\", \"functional_derivative\", \"computer\", \"misclassi\\ufb01cation_rate\", \"fisher\", \"orthogonal\", \"slice\", \"min_max\", \"valid_kernel\", \"unnormalized\", \"unconditional\", \"message_passed\", \"applies\", \"message_sent\", \"centred\", \"document\", \"rearranging_obtain\", \"slope\", \"retain\", \"received_message_neighbour\", \"approx_imation\", \"generative\", \"distributed_according\", \"appeal\", \"eigenvalue\", \"classification\", \"tangent_line\", \"gam\", \"revised\", \"event\", \"fruit\", \"max_max\", \"global_maximum\", \"cycling\", \"alternately\", \"originally\", \"con_ditional\", \"orange\", \"mixing\", \"randomly\", \"apple\", \"arg_max\", \"red_box\", \"acceleration\", \"decomposes\", \"convergence_criterion_satis\\ufb01ed\", \"contribute\", \"intended\", \"mit_press\", \"gaussian_process\", \"neural_computation\", \"ed_advance_neural\", \"springer\", \"williams\", \"ed\", \"wiley\", \"information_processing_system_volume\", \"reference\", \"proceeding\", \"morgan_kaufmann\", \"ieee\", \"intelligence\", \"fast\", \"ed_proceeding\", \"international\", \"component_analysis\", \"international_conference\", \"university\", \"science\", \"jordan\", \"sparse\"], \"Freq\": [0.0, 0.0, 0.0, 0.0, 1.0, 0.0, 1.0, 0.0, 0.0, 1.0, 1.0, 1.0, 0.0, 0.0, 0.0, 0.0, 0.0, 0.0, 0.0, 0.0, 15.8099430526921, 15.8099430526921, 7.624471976223548, 5.285763845781107, 5.285763845781107, 5.0485857869459005, 4.70108691860021, 4.70108691860021, 4.70108691860021, 4.116410413138171, 4.116410413138171, 4.091439174468364, 3.531732220800704, 3.531732220800704, 3.531732220800704, 3.531732220800704, 2.7924826810238486, 2.496927556852887, 2.362376679563484, 2.362376679563484, 0.6888999171489847, 0.5202480766823543, 0.4005860589514934, 0.3572799311472158, 0.32437770311312547, 0.2899285289542108, 0.28089522901459857, 0.2477443229365479, 0.22819362865131965, 0.2101342761228135, 0.23995848874403636, 0.19429091182443392, 0.18932769924062842, 0.17023140852952873, 0.17023140852952873, 0.15421121950543445, 0.15069839848884037, 0.16536285449715807, 0.1302415372882573, 0.13022907149062823, 0.18218266197727032, 0.10323026420239048, 0.08062892616644517, 0.08588868479354234, 0.07597203237212549, 0.07378338471199036, 0.07078262864420327, 0.06439815345647892, 0.060830779243733556, 0.0528238253631277, 0.052632666073232026, 0.04688618922657546, 0.04202065727080938, 0.04274914538989995, 0.040333933960246156, 0.04081143671331058, 0.03994120129301969, 0.039398592184611905, 0.037007733998336644, 0.037007401997424506, 0.03622551787869294, 0.036994866521808153, 0.04285777720940449, 0.041014702576117654, 0.04240870686572812, 0.03577217436272645, 0.0342653228767409, 0.03415219561952283, 0.03222646839085082, 0.028692216041286047, 0.028674872479596776, 0.028454487693962735, 0.024654879139274652, 0.02431056309977841, 0.022619352180410845, 0.0238754727004502, 0.02113412456745207, 0.023648720139669552, 0.02107793772172974, 0.02054457195153764, 0.020104018922158472, 0.021066046684803278, 0.04042982004694076, 0.03093146705285099, 0.04635437436810003, 0.02541294320952792, 0.025037987936363207, 0.18847942424248715, 0.14920044944565042, 0.11994276300200835, 0.10973714832294981, 0.09824242271082297, 0.06008969593374474, 0.047791215886877264, 0.047038955931353474, 0.049337489275054235, 0.041411448960917745, 0.0317990502396643, 0.026845072682312614, 0.02324885521677452, 0.023321409078345182, 0.040229278733720834, 0.019912604895440424, 0.01761950105347136, 0.016344048278301503, 0.01736848622226534, 0.015069916903272775, 0.02258525498422734, 0.04793666122429548, 0.10645250492928116, 0.10021307242077497, 0.0895151147453267, 0.06096175605333018, 0.048625065822142516, 0.029208870568038628, 0.02473572059390113, 0.02295591816956482, 0.02211655157449475, 0.01889953025842662, 0.03487400700133631, 0.016868898469608942, 0.01547080987073139, 0.015139225087594646, 0.014824180082285176, 0.015648217046967918, 0.01202251885586881, 0.01196061279896821, 0.010308688101526168, 0.010305650675297831, 0.023411735987351433, 0.014897632962675236, 0.04561661736348164, 0.0156371963745393, 0.009696785195740673, 0.005238021007895225, 0.0047034573359027365, 0.006087845203507418, 0.004129667614557204, 0.0034871119898879756, 0.0032727620896596653, 0.0031218700576854967, 0.0029699879524510845, 0.002504806578033898, 0.0023787765280190924, 0.0024341489047161806, 0.0020132592196834276, 0.00198909000082191, 0.0018394099440385632, 0.0014590929296706132, 0.0015522011225534847, 0.001119547273049607, 0.0011195469528448012, 0.0010775295180951929, 0.0018367552860941749, 0.0018309528548041123, 0.0013083520343648905, 0.005694240944030488, 0.005223605016081146, 0.003725684727705438, 0.0021304053170532852, 0.0016914627217915952, 0.0016266130724062549, 0.0016008690111177731, 0.0013359910370139053, 0.0012089391257529899, 0.00121248535495746, 0.001890081899022801, 0.00275938707834003, 0.001054566253259582, 0.0009382752022696095, 0.00086925919675107, 0.0008533480876867873, 0.0009185993629018079, 0.0023734044505394026, 0.000836999976424407, 0.0008345247718083619, 0.005857637072816689, 0.0011194790699365369, 0.0012123305581726962, 0.004790002761230304, 0.0018968555030819797, 0.0019970932891630214, 0.001490769834728677, 0.0014020646688465957, 0.0014019886907723047, 0.0013987549285672425, 0.0013978673168976155, 0.0012595319847546124, 0.0011029546008004716, 0.0010979224725093885, 0.0010231965081495585, 0.0010042609380827153, 0.0009997120783762393, 0.000986660115019258, 0.0009015019025708896, 0.0008852411755419104, 0.0008665602302714521, 0.0008481516489311032, 0.000807633666299863, 0.0008261985703447878, 0.002927192407556239, 0.0024723127146213616, 0.00211200016884184, 0.0015845087768611753, 0.001440645073615813, 0.0013068384591277122, 0.001248825670229257, 0.001248825670229257, 0.0011529149905604309, 0.0011529149905604309, 0.0010570040020572212, 0.0009131364898544612, 0.0008172240086517308, 0.0008172240086517308, 0.0008704076057661715, 0.0007213108583078358, 0.0006733541287186965, 0.0006253971417675709, 0.0006253971417675709, 0.0006253971417675709, 0.000758671891974709, 0.0010414657206597607, 0.0007802910194405323], \"Total\": [0.0, 0.0, 0.0, 0.0, 1.0, 0.0, 1.0, 0.0, 0.0, 1.0, 1.0, 1.0, 0.0, 0.0, 0.0, 0.0, 0.0, 0.0, 0.0, 0.0, 15.813335779718699, 15.813335779718699, 7.627864130970124, 5.289155857266181, 5.289155857266181, 5.051984818219904, 4.704478896765996, 4.704478896765996, 4.704478896765996, 4.119802359184305, 4.119802359184305, 4.094831254172184, 3.5351241360214445, 3.5351241360214445, 3.5351241360214445, 3.5351241360214445, 2.7958757473566616, 2.5003449339397443, 2.365768538248652, 2.365768538248652, 0.7144272306619693, 0.5461544232980723, 0.426114711365852, 0.38281354626057323, 0.3502230336659775, 0.31545584051253106, 0.30642341852661825, 0.2733386884092118, 0.25372143304326056, 0.23566158827976735, 0.2712672320426644, 0.2198215326190502, 0.21651209866621532, 0.1957660336078064, 0.1957660336078064, 0.17997737290711413, 0.17657765666087794, 0.1967440594474319, 0.1559386274346053, 0.15601455425656519, 0.246088998544376, 0.1296427131899768, 0.10725089616049809, 0.11556220249328017, 0.10238574833664944, 0.10065062598925062, 0.09719563573257713, 0.09081084944980607, 0.08773155748309262, 0.07923575986198791, 0.07926538122339308, 0.07330229119719935, 0.0684323768548141, 0.0704707886032364, 0.06675403448866588, 0.06764971261654705, 0.06664126387875594, 0.06581022046161868, 0.0634192652984724, 0.06342296040144137, 0.0626389197359792, 0.06397308406899405, 0.06956101001298318, 0.06784641104812596, 0.07264798924356423, 0.06247021275536035, 0.06096617030870116, 0.06085083415022774, 0.05892596599168135, 0.0553905347045866, 0.055376291376904405, 0.055470559492670636, 0.051363852035178695, 0.051243917585855905, 0.04942278431360357, 0.05394190387109782, 0.04783933250381175, 0.05386503311929592, 0.04827051253932687, 0.04724259887540903, 0.04683233825267146, 0.04907396885463751, 0.09870383185273895, 0.09277293411840679, 0.6088374559730567, 0.2539255786809848, 0.246088998544376, 0.21544726215278917, 0.17612206043014186, 0.14694959534547505, 0.13665953674632134, 0.12516575332923702, 0.08700982942130092, 0.07471099740475452, 0.07395877834336534, 0.07915627763565944, 0.06833126693011896, 0.06548493982281323, 0.05560114889989751, 0.05016929352329559, 0.052011729826595965, 0.09099843951761354, 0.047282010110333186, 0.0445640791028687, 0.04328311700129593, 0.04617694602976313, 0.042081180603554744, 0.08203806330953231, 0.6443056821505451, 0.13329363906913144, 0.12705698875842125, 0.11635579745892913, 0.08780267820884126, 0.07546785317690415, 0.0561532798058726, 0.051750400476892645, 0.05023820973206561, 0.04948826555624335, 0.04574415709593252, 0.09409052570918111, 0.04574069872214702, 0.04231299167805375, 0.04198593958019795, 0.04166636990505293, 0.04772154080441196, 0.03887436375690481, 0.040122158635149036, 0.03714930033504719, 0.037147886002082, 0.09099843951761354, 0.06570742970379716, 0.6708962370556518, 0.08152617732777694, 0.03684617185007779, 0.03237567338530387, 0.03189955109950832, 0.04503500575121898, 0.031274324732282616, 0.030625430429915987, 0.030410205372703773, 0.030259040509845316, 0.030107278209702076, 0.029817905795800157, 0.029516118820501234, 0.030707330336580633, 0.029150566902187754, 0.02962387083697092, 0.0325089530935685, 0.028600893207867715, 0.03224308311600522, 0.028256722011384093, 0.028256727072397694, 0.028214771616309257, 0.05560114889989751, 0.06548493982281323, 0.0704707886032364, 0.03283210344973135, 0.04594511108448521, 0.039672561745592305, 0.029304194345393195, 0.02882583049151739, 0.028785252907818724, 0.028734505867162936, 0.029034410865052318, 0.028451430062855828, 0.02891421911988263, 0.04617694602976313, 0.07013030867102069, 0.028188292534107626, 0.028071622214634603, 0.028004048207889543, 0.02798650314695903, 0.030586422317937727, 0.07915627763565944, 0.028017753893498774, 0.027968535118140857, 0.1967440594474319, 0.043201181052978634, 0.0665402524465194, 0.0319248773562395, 0.0291032246166584, 0.03176833607058664, 0.02989452012006098, 0.028532836999645, 0.028534121754495732, 0.02853077650784739, 0.028541511059838202, 0.028395099339545773, 0.02827224392049879, 0.028228700858239943, 0.028154776652514243, 0.028136321022324086, 0.028130492155056412, 0.028118013774750133, 0.028032281622797986, 0.02801606773773891, 0.02799994506566378, 0.027986131310443297, 0.027939253113868724, 0.21432975703012463, 0.03011802513953204, 0.029659994743269004, 0.02928583968926915, 0.02874884569817396, 0.02860262498986401, 0.02884117858911026, 0.028407834101623154, 0.028407834101623154, 0.02831051800681339, 0.02831051800681339, 0.02821325814770624, 0.028067476623453935, 0.02797036788482792, 0.02797036788482792, 0.033533307539493594, 0.02787332752093462, 0.02782483308264253, 0.027776359531392632, 0.027776359531392632, 0.027776359531392632, 0.03487667454059187, 0.052011729826595965, 0.03991890538603961], \"Category\": [\"Default\", \"Default\", \"Default\", \"Default\", \"Default\", \"Default\", \"Default\", \"Default\", \"Default\", \"Default\", \"Default\", \"Default\", \"Default\", \"Default\", \"Default\", \"Default\", \"Default\", \"Default\", \"Default\", \"Default\", \"Topic1\", \"Topic1\", \"Topic1\", \"Topic1\", \"Topic1\", \"Topic1\", \"Topic1\", \"Topic1\", \"Topic1\", \"Topic1\", \"Topic1\", \"Topic1\", \"Topic1\", \"Topic1\", \"Topic1\", \"Topic1\", \"Topic1\", \"Topic1\", \"Topic1\", \"Topic1\", \"Topic2\", \"Topic2\", \"Topic2\", \"Topic2\", \"Topic2\", \"Topic2\", \"Topic2\", \"Topic2\", \"Topic2\", \"Topic2\", \"Topic2\", \"Topic2\", \"Topic2\", \"Topic2\", \"Topic2\", \"Topic2\", \"Topic2\", \"Topic2\", \"Topic2\", \"Topic2\", \"Topic2\", \"Topic3\", \"Topic3\", \"Topic3\", \"Topic3\", \"Topic3\", \"Topic3\", \"Topic3\", \"Topic3\", \"Topic3\", \"Topic3\", \"Topic3\", \"Topic3\", \"Topic3\", \"Topic3\", \"Topic3\", \"Topic3\", \"Topic3\", \"Topic3\", \"Topic3\", \"Topic3\", \"Topic3\", \"Topic4\", \"Topic4\", \"Topic4\", \"Topic4\", \"Topic4\", \"Topic4\", \"Topic4\", \"Topic4\", \"Topic4\", \"Topic4\", \"Topic4\", \"Topic4\", \"Topic4\", \"Topic4\", \"Topic4\", \"Topic4\", \"Topic4\", \"Topic4\", \"Topic4\", \"Topic4\", \"Topic4\", \"Topic4\", \"Topic4\", \"Topic4\", \"Topic4\", \"Topic5\", \"Topic5\", \"Topic5\", \"Topic5\", \"Topic5\", \"Topic5\", \"Topic5\", \"Topic5\", \"Topic5\", \"Topic5\", \"Topic5\", \"Topic5\", \"Topic5\", \"Topic5\", \"Topic5\", \"Topic5\", \"Topic5\", \"Topic5\", \"Topic5\", \"Topic5\", \"Topic5\", \"Topic5\", \"Topic6\", \"Topic6\", \"Topic6\", \"Topic6\", \"Topic6\", \"Topic6\", \"Topic6\", \"Topic6\", \"Topic6\", \"Topic6\", \"Topic6\", \"Topic6\", \"Topic6\", \"Topic6\", \"Topic6\", \"Topic6\", \"Topic6\", \"Topic6\", \"Topic6\", \"Topic6\", \"Topic6\", \"Topic6\", \"Topic6\", \"Topic6\", \"Topic7\", \"Topic7\", \"Topic7\", \"Topic7\", \"Topic7\", \"Topic7\", \"Topic7\", \"Topic7\", \"Topic7\", \"Topic7\", \"Topic7\", \"Topic7\", \"Topic7\", \"Topic7\", \"Topic7\", \"Topic7\", \"Topic7\", \"Topic7\", \"Topic7\", \"Topic7\", \"Topic7\", \"Topic7\", \"Topic7\", \"Topic8\", \"Topic8\", \"Topic8\", \"Topic8\", \"Topic8\", \"Topic8\", \"Topic8\", \"Topic8\", \"Topic8\", \"Topic8\", \"Topic8\", \"Topic8\", \"Topic8\", \"Topic8\", \"Topic8\", \"Topic8\", \"Topic8\", \"Topic8\", \"Topic8\", \"Topic8\", \"Topic8\", \"Topic8\", \"Topic8\", \"Topic9\", \"Topic9\", \"Topic9\", \"Topic9\", \"Topic9\", \"Topic9\", \"Topic9\", \"Topic9\", \"Topic9\", \"Topic9\", \"Topic9\", \"Topic9\", \"Topic9\", \"Topic9\", \"Topic9\", \"Topic9\", \"Topic9\", \"Topic9\", \"Topic9\", \"Topic9\", \"Topic9\", \"Topic10\", \"Topic10\", \"Topic10\", \"Topic10\", \"Topic10\", \"Topic10\", \"Topic10\", \"Topic10\", \"Topic10\", \"Topic10\", \"Topic10\", \"Topic10\", \"Topic10\", \"Topic10\", \"Topic10\", \"Topic10\", \"Topic10\", \"Topic10\", \"Topic10\", \"Topic10\", \"Topic10\", \"Topic10\", \"Topic10\"], \"logprob\": [20.0, 19.0, 18.0, 17.0, 16.0, 15.0, 14.0, 13.0, 12.0, 11.0, 10.0, 9.0, 8.0, 7.0, 6.0, 5.0, 4.0, 3.0, 2.0, 1.0, -3.3548, -3.3548, -4.0841, -4.4505, -4.4505, -4.4964, -4.5677, -4.5677, -4.5677, -4.7005, -4.7005, -4.7066, -4.8537, -4.8537, -4.8537, -4.8537, -5.0886, -5.2004, -5.2558, -5.2558, -3.3185, -3.5993, -3.8607, -3.9751, -4.0717, -4.1839, -4.2156, -4.3412, -4.4234, -4.5058, -4.3731, -4.5842, -4.6101, -4.7164, -4.7164, -4.8153, -4.8383, -4.7454, -4.9842, -4.9843, -4.6486, -3.9276, -4.1747, -4.1115, -4.2342, -4.2634, -4.3049, -4.3994, -4.4564, -4.5976, -4.6012, -4.7168, -4.8264, -4.8092, -4.8673, -4.8556, -4.8771, -4.8908, -4.9534, -4.9534, -4.9748, -4.9538, -4.2813, -4.3253, -4.2918, -4.462, -4.5051, -4.5084, -4.5664, -4.6826, -4.6832, -4.6909, -4.8342, -4.8483, -4.9204, -4.8663, -4.9883, -4.8759, -4.991, -5.0166, -5.0383, -4.9915, -4.3396, -4.6074, -4.2029, -4.8039, -4.8188, -2.7578, -2.9915, -3.2098, -3.2987, -3.4093, -3.9009, -4.1299, -4.1458, -4.0981, -4.2732, -4.5374, -4.7067, -4.8505, -4.8474, -4.3022, -5.0054, -5.1278, -5.2029, -5.1421, -5.2841, -4.8795, -4.1269, -3.0962, -3.1566, -3.2694, -3.6536, -3.8797, -4.3894, -4.5556, -4.6303, -4.6675, -4.8247, -4.2121, -4.9384, -5.0249, -5.0466, -5.0676, -5.0135, -5.2771, -5.2822, -5.4309, -5.4312, -4.6106, -5.0627, -3.9436, -5.0142, -2.8752, -3.491, -3.5987, -3.3407, -3.7288, -3.8979, -3.9613, -4.0085, -4.0584, -4.2288, -4.2804, -4.2574, -4.4472, -4.4593, -4.5375, -4.7691, -4.7073, -5.034, -5.034, -5.0723, -4.539, -4.5421, -4.8782, -3.2314, -3.3177, -3.6556, -4.2146, -4.4453, -4.4844, -4.5003, -4.6812, -4.7812, -4.7782, -4.3343, -3.9559, -4.9178, -5.0346, -5.111, -5.1295, -5.0558, -4.1066, -5.1488, -5.1518, -3.2031, -4.858, -4.7784, -3.1975, -4.1238, -4.0723, -4.3647, -4.4261, -4.4261, -4.4284, -4.4291, -4.5333, -4.666, -4.6706, -4.7411, -4.7597, -4.7643, -4.7774, -4.8677, -4.8859, -4.9072, -4.9287, -4.9776, -4.9549, -2.9382, -3.107, -3.2646, -3.5519, -3.6471, -3.7446, -3.79, -3.79, -3.8699, -3.8699, -3.9568, -4.1031, -4.214, -4.214, -4.151, -4.3389, -4.4077, -4.4816, -4.4816, -4.4816, -4.2884, -3.9716, -4.2603], \"loglift\": [20.0, 19.0, 18.0, 17.0, 16.0, 15.0, 14.0, 13.0, 12.0, 11.0, 10.0, 9.0, 8.0, 7.0, 6.0, 5.0, 4.0, 3.0, 2.0, 1.0, 0.0705, 0.0705, 0.0703, 0.0701, 0.0701, 0.07, 0.07, 0.07, 0.07, 0.0699, 0.0699, 0.0699, 0.0698, 0.0698, 0.0698, 0.0698, 0.0695, 0.0694, 0.0693, 0.0693, 3.204, 3.1918, 3.1786, 3.1714, 3.1637, 3.156, 3.1534, 3.1421, 3.1343, 3.1257, 3.1177, 3.1169, 3.1062, 3.1006, 3.1006, 3.0859, 3.0819, 3.0666, 3.0603, 3.0597, 2.9397, 4.3016, 4.2441, 4.2327, 4.231, 4.2189, 4.2123, 4.1857, 4.1632, 4.124, 4.12, 4.0826, 4.0417, 4.0296, 4.0256, 4.024, 4.0175, 4.0164, 3.9908, 3.9907, 3.9818, 3.9817, 4.5704, 4.5514, 4.5165, 4.4972, 4.4786, 4.4772, 4.4513, 4.397, 4.3966, 4.3872, 4.3208, 4.3091, 4.2732, 4.2397, 4.2378, 4.2316, 4.2262, 4.2221, 4.2091, 4.2091, 4.1622, 3.9564, 2.4795, 2.753, 2.7695, 4.9634, 4.9313, 4.8941, 4.8778, 4.855, 4.727, 4.6504, 4.6446, 4.6244, 4.5964, 4.3748, 4.3691, 4.328, 4.2951, 4.2809, 4.2324, 4.1693, 4.1233, 4.1194, 4.0703, 3.8073, 2.4989, 5.1053, 5.0928, 5.0679, 4.9653, 4.8905, 4.6765, 4.5919, 4.5469, 4.5247, 4.4462, 4.3376, 4.3326, 4.324, 4.3101, 4.2967, 4.2151, 4.1566, 4.1198, 4.0482, 4.0479, 3.9725, 3.8461, 2.6418, 3.6788, 6.612, 6.1255, 6.0327, 5.9459, 5.9224, 5.7742, 5.7179, 5.6756, 5.6308, 5.4701, 5.4287, 5.4121, 5.2743, 5.2461, 5.0749, 4.9714, 4.9134, 4.7186, 4.7186, 4.6818, 4.5368, 4.37, 3.9606, 6.3711, 5.9488, 5.7577, 5.5016, 5.2874, 5.2497, 5.2355, 5.0443, 4.9646, 4.9514, 4.9272, 4.8877, 4.8373, 4.7246, 4.6506, 4.6328, 4.6176, 4.616, 4.6123, 4.6111, 4.6089, 4.4701, 4.1178, 6.4331, 5.5993, 5.5632, 5.3316, 5.3169, 5.3168, 5.3146, 5.3136, 5.2145, 5.0861, 5.083, 5.0152, 4.9972, 4.9928, 4.9801, 4.8929, 4.8753, 4.8545, 4.8336, 4.7863, 2.7715, 6.7507, 6.5971, 6.4523, 6.1834, 6.0934, 5.9876, 5.9573, 5.9573, 5.8808, 5.8808, 5.7974, 5.6563, 5.5488, 5.5488, 5.4304, 5.4274, 5.3604, 5.2882, 5.2882, 5.2882, 5.2538, 5.1709, 5.1468]}, \"token.table\": {\"Topic\": [1, 1, 1, 1, 1, 2, 1, 1, 1, 1, 1, 1, 1, 1, 1, 1, 1, 1, 1, 1, 1, 1, 1, 1, 1, 2, 1, 1, 1, 1, 1, 1, 1, 1, 1, 1, 1, 1, 1], \"Freq\": [1.1315019914694546, 1.0118042279555404, 1.0499522527965033, 0.9453304336137227, 1.490543462262777, 1.3997226828454263, 0.9709203624981598, 1.5520583283733098, 1.6424745064374844, 1.304409842054369, 1.6148584364756466, 0.9897100208946745, 0.8556023506877487, 0.8453912408018471, 1.5840358050070265, 0.9768412302520254, 1.0628169686205107, 1.1315019914694546, 1.1315019914694546, 1.1391705881664038, 1.5612415917082154, 1.4574703722265092, 1.0730090573003204, 1.6279550803569593, 1.9536496368350793, 1.830983980613546, 0.8453912408018471, 0.9709203624981598, 1.0118042279555404, 1.0487863788132978, 1.0392804579280006, 0.799889636366547, 0.6967524642399306, 0.9453304336137227, 1.5174600775679838, 1.0628169686205107, 1.1315019914694546, 0.7068000967711524, 1.0628169686205107], \"Term\": [\"api\", \"application\", \"aspect\", \"autochk\", \"base_classi\\ufb01er\", \"beam\", \"build\", \"communication\", \"conditioning\", \"correctly_normalized\", \"designed\", \"detailed_balance\", \"deterministic\", \"device\", \"devise\", \"driver\", \"environment\", \"file\", \"function\", \"hierarchical_mixture\", \"highlight\", \"homogeneous\", \"initialized\", \"interact\", \"keep_notation_uncluttered\", \"leapfrog_integration\", \"like\", \"must\", \"native\", \"nt\", \"open\", \"parent_child\", \"passed\", \"program\", \"published\", \"run\", \"runtime\", \"unfortunately\", \"win32\"]}, \"R\": 20, \"lambda.step\": 0.01, \"plot.opts\": {\"xlab\": \"PC1\", \"ylab\": \"PC2\"}, \"topic.order\": [7, 6, 5, 8, 4, 9, 10, 3, 1, 2]};\n",
              "\n",
              "function LDAvis_load_lib(url, callback){\n",
              "  var s = document.createElement('script');\n",
              "  s.src = url;\n",
              "  s.async = true;\n",
              "  s.onreadystatechange = s.onload = callback;\n",
              "  s.onerror = function(){console.warn(\"failed to load library \" + url);};\n",
              "  document.getElementsByTagName(\"head\")[0].appendChild(s);\n",
              "}\n",
              "\n",
              "if(typeof(LDAvis) !== \"undefined\"){\n",
              "   // already loaded: just create the visualization\n",
              "   !function(LDAvis){\n",
              "       new LDAvis(\"#\" + \"ldavis_el2494019474369015842280084642\", ldavis_el2494019474369015842280084642_data);\n",
              "   }(LDAvis);\n",
              "}else if(typeof define === \"function\" && define.amd){\n",
              "   // require.js is available: use it to load d3/LDAvis\n",
              "   require.config({paths: {d3: \"https://d3js.org/d3.v5\"}});\n",
              "   require([\"d3\"], function(d3){\n",
              "      window.d3 = d3;\n",
              "      LDAvis_load_lib(\"https://cdn.jsdelivr.net/gh/bmabey/pyLDAvis@3.4.0/pyLDAvis/js/ldavis.v3.0.0.js\", function(){\n",
              "        new LDAvis(\"#\" + \"ldavis_el2494019474369015842280084642\", ldavis_el2494019474369015842280084642_data);\n",
              "      });\n",
              "    });\n",
              "}else{\n",
              "    // require.js not available: dynamically load d3 & LDAvis\n",
              "    LDAvis_load_lib(\"https://d3js.org/d3.v5.js\", function(){\n",
              "         LDAvis_load_lib(\"https://cdn.jsdelivr.net/gh/bmabey/pyLDAvis@3.4.0/pyLDAvis/js/ldavis.v3.0.0.js\", function(){\n",
              "                 new LDAvis(\"#\" + \"ldavis_el2494019474369015842280084642\", ldavis_el2494019474369015842280084642_data);\n",
              "            })\n",
              "         });\n",
              "}\n",
              "</script>"
            ],
            "text/plain": [
              "PreparedData(topic_coordinates=              x         y  topics  cluster       Freq\n",
              "topic                                                \n",
              "6     -0.110000  0.359105       1        1  93.172262\n",
              "5      0.170202 -0.226622       2        1   3.914890\n",
              "4      0.165727  0.204020       3        1   1.078683\n",
              "7     -0.050666 -0.080220       4        1   0.637888\n",
              "3     -0.286614  0.114232       5        1   0.611399\n",
              "8     -0.009070  0.149546       6        1   0.484354\n",
              "9      0.355781 -0.000398       7        1   0.035372\n",
              "2     -0.251855 -0.091969       8        1   0.029662\n",
              "0      0.126910  0.001979       9        1   0.024118\n",
              "1     -0.110412 -0.429673      10        1   0.011372, topic_info=                          Term      Freq     Total Category  logprob  loglift\n",
              "1341               homogeneous  0.000000  0.000000  Default  20.0000  20.0000\n",
              "2191            base_classiﬁer  0.000000  0.000000  Default  19.0000  19.0000\n",
              "846       correctly_normalized  0.000000  0.000000  Default  18.0000  18.0000\n",
              "655              communication  0.000000  0.000000  Default  17.0000  17.0000\n",
              "234              deterministic  1.000000  1.000000  Default  16.0000  16.0000\n",
              "...                        ...       ...       ...      ...      ...      ...\n",
              "2322  international_conference  0.000625  0.027776  Topic10  -4.4816   5.2882\n",
              "2349                university  0.000625  0.027776  Topic10  -4.4816   5.2882\n",
              "2098                   science  0.000759  0.034877  Topic10  -4.2884   5.2538\n",
              "1506                    jordan  0.001041  0.052012  Topic10  -3.9716   5.1709\n",
              "817                     sparse  0.000780  0.039919  Topic10  -4.2603   5.1468\n",
              "\n",
              "[243 rows x 6 columns], token_table=      Topic      Freq                       Term\n",
              "term                                            \n",
              "2363      1  1.131502                        api\n",
              "2366      1  1.011804                application\n",
              "471       1  1.049952                     aspect\n",
              "2372      1  0.945330                    autochk\n",
              "2191      1  1.490543             base_classiﬁer\n",
              "403       2  1.399723                       beam\n",
              "2378      1  0.970920                      build\n",
              "655       1  1.552058              communication\n",
              "474       1  1.642475               conditioning\n",
              "846       1  1.304410       correctly_normalized\n",
              "2196      1  1.614858                   designed\n",
              "2057      1  0.989710           detailed_balance\n",
              "234       1  0.855602              deterministic\n",
              "2404      1  0.845391                     device\n",
              "2135      1  1.584036                     devise\n",
              "1719      1  0.976841                     driver\n",
              "2412      1  1.062817                environment\n",
              "2422      1  1.131502                       file\n",
              "2427      1  1.131502                   function\n",
              "2235      1  1.139171       hierarchical_mixture\n",
              "322       1  1.561242                  highlight\n",
              "1341      1  1.457470                homogeneous\n",
              "927       1  1.073009                initialized\n",
              "2233      1  1.627955                   interact\n",
              "553       1  1.953650  keep_notation_uncluttered\n",
              "2160      2  1.830984       leapfrog_integration\n",
              "2450      1  0.845391                       like\n",
              "2475      1  0.970920                       must\n",
              "2478      1  1.011804                     native\n",
              "2482      1  1.048786                         nt\n",
              "1446      1  1.039280                       open\n",
              "1596      1  0.799890               parent_child\n",
              "1597      1  0.696752                     passed\n",
              "2508      1  0.945330                    program\n",
              "275       1  1.517460                  published\n",
              "2517      1  1.062817                        run\n",
              "2518      1  1.131502                    runtime\n",
              "1454      1  0.706800              unfortunately\n",
              "2561      1  1.062817                      win32, R=20, lambda_step=0.01, plot_opts={'xlab': 'PC1', 'ylab': 'PC2'}, topic_order=[7, 6, 5, 8, 4, 9, 10, 3, 1, 2])"
            ]
          },
          "execution_count": 19,
          "metadata": {},
          "output_type": "execute_result"
        }
      ],
      "source": [
        "vis"
      ]
    }
  ],
  "metadata": {
    "colab": {
      "provenance": []
    },
    "kernelspec": {
      "display_name": "Python 3",
      "name": "python3"
    },
    "language_info": {
      "codemirror_mode": {
        "name": "ipython",
        "version": 3
      },
      "file_extension": ".py",
      "mimetype": "text/x-python",
      "name": "python",
      "nbconvert_exporter": "python",
      "pygments_lexer": "ipython3",
      "version": "3.12.0"
    }
  },
  "nbformat": 4,
  "nbformat_minor": 0
}
